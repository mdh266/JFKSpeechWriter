{
 "cells": [
  {
   "cell_type": "markdown",
   "id": "e787e6d6-9482-4e0e-943d-5c92e6962f83",
   "metadata": {},
   "source": [
    "# Creating An AI-Based JFK Speech Writer: Part 1\n",
    "---------------\n",
    "\n",
    "## Introduction\n",
    "----------------\n",
    "One of the most quitensential projects to complete when getting started with Deep Learning and Natural Language Processing is with text generation with Recurrent Neural Networks. The internet is littered with examples of people training on books of Shakespeare and using the network to generate new text that mimics Shakespeare's style. I wanted to do something along these lines, but a little more creative. Many would agree one of the best orators of all time would have to be John F. Kennedy. I am a personally a big nerd of an President Kennedy's speaches and spent many hours listening to his words. So I started this project to see if could write a neural network to generate a Kennedy speech writer. \n",
    "\n",
    "Speeches writen by the President, Senators & Representatives (JFK was all 3) are under the public domain which means they are publicly available! In this first part, I will quickly go over how I was able to create a training set of JFK's speeches. \n",
    "\n",
    "## Creating A Database Of Speeches With BeautifulSoup\n",
    "-------------------\n",
    "\n",
    "The first place I went to get President Kennedy's speeches was his [Presidential Library's Website](https://jfklibrary.org/). The website has a list of each \n"
   ]
  },
  {
   "cell_type": "markdown",
   "id": "5d72b4c4-7e43-46f8-aaa8-66f3b59dd453",
   "metadata": {},
   "source": [
    "![scrape](images/scrape.png)"
   ]
  },
  {
   "cell_type": "code",
   "execution_count": 55,
   "id": "df98e1b4-e403-4030-b3ec-aec825fe6d7d",
   "metadata": {},
   "outputs": [],
   "source": [
    "import requests\n",
    "import os\n",
    "from bs4 import BeautifulSoup\n"
   ]
  },
  {
   "cell_type": "code",
   "execution_count": 56,
   "id": "fc53f34a-baa4-4238-8888-76b964423e8a",
   "metadata": {},
   "outputs": [],
   "source": [
    "def get_links():\n",
    "    \"\"\"\n",
    "    Used \n",
    "    \"\"\"\n",
    "    address = \"https://www.jfklibrary.org/archives/other-resources/john-f-kennedy-speeches\"\n",
    "    page_nbs = range(13,38)\n",
    "\n",
    "    links = []\n",
    "    for num in page_nbs:\n",
    "        page = requests.get(f\"{address}?page={num}\")\n",
    "        soup = BeautifulSoup(page.text, 'html.parser')\n",
    "        links.extend([article.find(\"a\")[\"href\"] for article in soup.find_all(\"article\")])\n",
    "    \n",
    "    return links\n"
   ]
  },
  {
   "cell_type": "code",
   "execution_count": 57,
   "id": "34e7a994-4e30-446f-8dd2-7c7b42c0054e",
   "metadata": {},
   "outputs": [],
   "source": [
    "links = get_links()"
   ]
  },
  {
   "cell_type": "code",
   "execution_count": 58,
   "id": "f399bf3a-32c7-49e2-aa27-39ff5e5aba1b",
   "metadata": {},
   "outputs": [
    {
     "name": "stdout",
     "output_type": "stream",
     "text": [
      "/archives/other-resources/john-f-kennedy-speeches/indianapolis-in-19591002\n"
     ]
    }
   ],
   "source": [
    "link = links[0]\n",
    "print(link)"
   ]
  },
  {
   "cell_type": "code",
   "execution_count": 59,
   "id": "8b50f828-528e-4841-8514-2720f3d14b3c",
   "metadata": {},
   "outputs": [
    {
     "name": "stdout",
     "output_type": "stream",
     "text": [
      "indianapolis-in-19591002\n"
     ]
    }
   ],
   "source": [
    "title = link.partition(\"/john-f-kennedy-speeches/\")[2]\n",
    "print(title)"
   ]
  },
  {
   "cell_type": "code",
   "execution_count": null,
   "id": "68d03055-ae94-46bb-bde3-f2578530b2e3",
   "metadata": {},
   "outputs": [],
   "source": [
    "# pip install google-cloud-storage\n",
    "from google.cloud import storage\n",
    "client = storage.Client()\n",
    "bucket = client.create_bucket('harmon-kennedy')\n"
   ]
  },
  {
   "cell_type": "code",
   "execution_count": 61,
   "id": "a18feb97-5d09-40f7-aa3e-5b97009ce624",
   "metadata": {},
   "outputs": [],
   "source": [
    "def speech_etl(link: str) -> None:\n",
    "    site = f\"https://www.jfklibrary.org/{link}\"\n",
    "    page = requests.get(site)\n",
    "    soup = BeautifulSoup(page.text, 'html.parser')\n",
    "    title = link.partition(\"/john-f-kennedy-speeches/\")[2]\n",
    "    file_name = f\"{title}.txt\"\n",
    "    blob = bucket.blob(file_name)\n",
    "    speech = soup.find(\"article\").text\n",
    "    blob.upload_from_string(data=speech, content_type='text/plain')\n",
    "    \n",
    "    "
   ]
  },
  {
   "cell_type": "code",
   "execution_count": 62,
   "id": "3b5d5b1a-e170-4686-8687-0aa20149bd23",
   "metadata": {},
   "outputs": [],
   "source": [
    "for link in links:\n",
    "    speech_etl(link)"
   ]
  },
  {
   "cell_type": "markdown",
   "id": "3ea72f62-5980-4260-b5f5-a8ecc783af15",
   "metadata": {},
   "source": [
    "## Next Steps\n",
    "-----------------------"
   ]
  },
  {
   "cell_type": "code",
   "execution_count": null,
   "id": "1cb5ba9e-fb5b-4678-8a0e-1500bcfcc987",
   "metadata": {},
   "outputs": [],
   "source": []
  }
 ],
 "metadata": {
  "kernelspec": {
   "display_name": "Python 3 (ipykernel)",
   "language": "python",
   "name": "python3"
  },
  "language_info": {
   "codemirror_mode": {
    "name": "ipython",
    "version": 3
   },
   "file_extension": ".py",
   "mimetype": "text/x-python",
   "name": "python",
   "nbconvert_exporter": "python",
   "pygments_lexer": "ipython3",
   "version": "3.9.7"
  }
 },
 "nbformat": 4,
 "nbformat_minor": 5
}
