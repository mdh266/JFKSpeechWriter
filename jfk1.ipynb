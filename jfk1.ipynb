{
 "cells": [
  {
   "cell_type": "markdown",
   "id": "e787e6d6-9482-4e0e-943d-5c92e6962f83",
   "metadata": {},
   "source": [
    "# Creating An AI-Based JFK Speech Writer: Part 1\n",
    "---------------\n",
    "\n",
    "## Introduction\n",
    "----------------\n",
    "One of the most quintessential projects to complete when getting started with Deep Learning and Natural Language Processing is with text generation with Recurrent Neural Networks. The internet is littered with examples of people training on books of Shakespeare and using the network to generate new text that mimics Shakespeare's style. I wanted to do something along these lines, but a little more creative. Many would agree one of the best orators of all time would have to be John F. Kennedy. I am a personally a big nerd of an President Kennedy's speeches and spent many hours listening to his words. So I started this project to see if could write a neural network to generate a Kennedy-like speech writer. \n",
    "\n",
    "Speeches written by the President, Senators & Representatives (JFK was all 3) are under the public domain which means they are publicly available! In this first part, I will quickly go over how I was able to create a training set of JFK's speeches. \n",
    "\n",
    "## Web Scraping JFK Speeches With BeautifulSoup \n",
    "-------------------\n",
    "\n",
    "The first place I went to get President Kennedy's speeches was his [Presidential Library's Website](https://jfklibrary.org/). The website has a list of each speech at the address [https://www.jfklibrary.org/archives/other-resources/john-f-kennedy-speeches](https://www.jfklibrary.org/archives/other-resources/john-f-kennedy-speeches). The site has quite a few pages with each speech linked with the date it occurred as shown below,\n",
    "\n",
    "![scrape](images/scrape.png)\n",
    "\n",
    "Each page is index at the top by the `?page=N` so I can loop through all the pages. I found the HTML that corresponds to each link by using the [Inspect Tool](https://www.browserstack.com/guide/inspect-element-in-chrome) in Google Chrome. Each speech is labeled by the tag `article` in HTML with the link for the speech being then given after the `href` term.\n",
    "\n",
    "Once I figured this out, could use the [requests](https://requests.readthedocs.io/en/latest/) package along with [BeautifulSoup](https://www.crummy.com/software/BeautifulSoup/bs4/doc/) to scrape the links from the HTML. A simple function to loop over all the pages and create an array of links to Kennedy Speeches from the library's website is below."
   ]
  },
  {
   "cell_type": "code",
   "execution_count": 12,
   "id": "9800e101-4e9f-46f7-830b-3bcc551cbc06",
   "metadata": {},
   "outputs": [],
   "source": [
    "import requests\n",
    "from bs4 import BeautifulSoup\n",
    "\n",
    "def get_soup(address: str, num: int = None) -> str:\n",
    "    if num is not None:\n",
    "        page = requests.get(f\"{address}?page={num}\")\n",
    "    else:\n",
    "        page = requests.get(f\"{address}\")\n",
    "        \n",
    "    soup = BeautifulSoup(page.text, 'html.parser')\n",
    "    return soup\n",
    "\n",
    "\n",
    "def get_links():\n",
    "    address = \"https://www.jfklibrary.org/archives/other-resources/john-f-kennedy-speeches\"\n",
    "    page_nbs = range(1,18)\n",
    "\n",
    "    links = []\n",
    "    for num in page_nbs:\n",
    "        soup = get_soup(address, num)\n",
    "        links.extend([article.find(\"a\")[\"href\"] for article in soup.find_all(\"article\")])\n",
    "    \n",
    "    return links"
   ]
  },
  {
   "cell_type": "markdown",
   "id": "5d72b4c4-7e43-46f8-aaa8-66f3b59dd453",
   "metadata": {},
   "source": [
    "I can then use this function to get the links,"
   ]
  },
  {
   "cell_type": "code",
   "execution_count": 4,
   "id": "df98e1b4-e403-4030-b3ec-aec825fe6d7d",
   "metadata": {},
   "outputs": [],
   "source": [
    "links = get_links()"
   ]
  },
  {
   "cell_type": "markdown",
   "id": "abef5605-b740-4aa0-b3fa-b8de5832bfb1",
   "metadata": {},
   "source": [
    "We can see the first link, "
   ]
  },
  {
   "cell_type": "code",
   "execution_count": 9,
   "id": "fc53f34a-baa4-4238-8888-76b964423e8a",
   "metadata": {},
   "outputs": [
    {
     "name": "stdout",
     "output_type": "stream",
     "text": [
      "/archives/other-resources/john-f-kennedy-speeches/boston-ma-wcop-radio-19470616\n"
     ]
    }
   ],
   "source": [
    "link = links[0]\n",
    "print(link)"
   ]
  },
  {
   "cell_type": "markdown",
   "id": "037f6e10-5197-4a79-9248-bfa6546dd033",
   "metadata": {},
   "source": [
    "We can then see the entire web address with the prefix shown below:"
   ]
  },
  {
   "cell_type": "code",
   "execution_count": 10,
   "id": "74198c1a-96a5-4f4c-a81a-c22bd94be59b",
   "metadata": {},
   "outputs": [
    {
     "name": "stdout",
     "output_type": "stream",
     "text": [
      "https://www.jfklibrary.org//archives/other-resources/john-f-kennedy-speeches/boston-ma-wcop-radio-19470616\n"
     ]
    }
   ],
   "source": [
    "print(f\"https://www.jfklibrary.org/{link}\")"
   ]
  },
  {
   "cell_type": "markdown",
   "id": "8cdc224c-f28c-414e-8baf-934e0ed6be7c",
   "metadata": {},
   "source": [
    "We can then create a bucket to write all the speeches to [Google Cloud Storage](https://cloud.google.com/storage) using the package [goolge-cloud-storage](https://cloud.google.com/storage/docs/reference/libraries). The documentation for API can be found [here](https://gcloud.readthedocs.io/en/latest/storage-client.html). First well create a client to connect to our project:"
   ]
  },
  {
   "cell_type": "code",
   "execution_count": 23,
   "id": "336335df-afe5-4eeb-8aa8-385a51c98224",
   "metadata": {},
   "outputs": [],
   "source": [
    "from google.oauth2 import service_account\n",
    "from google.cloud import storage\n",
    "from google.cloud.exceptions import Conflict\n",
    "\n",
    "credentials = service_account.Credentials.from_service_account_file('credentials.json')\n",
    "\n",
    "client = storage.Client(project=credentials.project_id,\n",
    "                        credentials=credentials)\n"
   ]
  },
  {
   "cell_type": "markdown",
   "id": "a052f9d5-ce6a-4df3-af90-f1d11595a13d",
   "metadata": {},
   "source": [
    "Then we'll create a bucket called `harmon-kennedy` and if it already exists then we'll connect to it:"
   ]
  },
  {
   "cell_type": "code",
   "execution_count": 29,
   "id": "96bbde5c-9c3e-40bb-a518-3bea48574ddb",
   "metadata": {},
   "outputs": [],
   "source": [
    "try:\n",
    "    bucket = client.create_bucket(\"harmon-kennedy\")\n",
    "except Conflict:\n",
    "    bucket = client.get_bucket(\"harmon-kennedy\")"
   ]
  },
  {
   "cell_type": "code",
   "execution_count": 30,
   "id": "68d03055-ae94-46bb-bde3-f2578530b2e3",
   "metadata": {},
   "outputs": [
    {
     "data": {
      "text/plain": [
       "<Bucket: harmon-kennedy>"
      ]
     },
     "execution_count": 30,
     "metadata": {},
     "output_type": "execute_result"
    }
   ],
   "source": [
    "bucket"
   ]
  },
  {
   "cell_type": "markdown",
   "id": "831d3f3b-a789-42e3-947d-8684f2426ab2",
   "metadata": {},
   "source": [
    "We'll save each speech as text file with the name coming from the text after the last backslash in the link. This can be accomplished with the function below,"
   ]
  },
  {
   "cell_type": "code",
   "execution_count": 17,
   "id": "dfa23611-183d-4d36-bbaa-242ec8d59a00",
   "metadata": {},
   "outputs": [],
   "source": [
    "def get_name(link: str) -> str:\n",
    "    name = link.partition(\"/john-f-kennedy-speeches/\")[2]\n",
    "    return f\"{name}.txt\""
   ]
  },
  {
   "cell_type": "markdown",
   "id": "3d0eb478-e28b-410f-92c4-89058b4ea23b",
   "metadata": {},
   "source": [
    "For example the link above we'll get the name using the function:"
   ]
  },
  {
   "cell_type": "code",
   "execution_count": 15,
   "id": "69b39758-3ff3-4a52-95c8-cbc172926f99",
   "metadata": {},
   "outputs": [
    {
     "data": {
      "text/plain": [
       "'boston-ma-wcop-radio-19470616.txt'"
      ]
     },
     "execution_count": 18,
     "metadata": {},
     "output_type": "execute_result"
    }
   ],
   "source": [
    "get_name(link)"
   ]
  },
  {
   "cell_type": "markdown",
   "id": "c1831363-8570-426f-9e83-e47f1c36d064",
   "metadata": {},
   "source": [
    "Looking at one of the pages from the links to the speeches below we can see that the bulk of the speech is referenced by the `article` tag:\n",
    "\n",
    "![speech](images/article.jpg)\n",
    "\n",
    "We can use this fact to scrape the speech from the page by finding the `article` tag and then taking the associated text from it. In BeautifulSoup the syntax is,\n",
    "\n",
    "    soup.find(\"article\").text\n",
    "    \n",
    "Next we can write a function that creates file in the bucket called `file_name` and writes the text of the associated speech into that file as a string:"
   ]
  },
  {
   "cell_type": "code",
   "execution_count": 31,
   "id": "18c37ee7-d29a-47d9-95ae-49109f8dddd2",
   "metadata": {},
   "outputs": [],
   "source": [
    "def upload_speech(file_name: str, speech: str) -> None:\n",
    "    blob = bucket.blob(file_name)\n",
    "    blob.upload_from_string(data=speech, content_type='text/plain')"
   ]
  },
  {
   "cell_type": "markdown",
   "id": "a174faf0-d7e2-423e-8491-4781a758d3b5",
   "metadata": {},
   "source": [
    "Now lastly we write one last function that will take in each link, the scrape the speech from the site associated with the link and then upload the speech as a text file to the bucket "
   ]
  },
  {
   "cell_type": "code",
   "execution_count": null,
   "id": "a18feb97-5d09-40f7-aa3e-5b97009ce624",
   "metadata": {},
   "outputs": [],
   "source": [
    "def speech_to_bucket(link: str) -> None:\n",
    "    address = f\"https://www.jfklibrary.org/{link}\"\n",
    "    soup = get_soup(address)\n",
    "    filename = get_name(link)\n",
    "    speech = soup.find(\"article\").text\n",
    "    upload_speech(filename, speech)"
   ]
  },
  {
   "cell_type": "markdown",
   "id": "24a3e9b2-763b-4671-bdfc-f4eebbd2ca7e",
   "metadata": {},
   "source": [
    "Now we'll loop over each link we got above and upload the speech to the bucket:"
   ]
  },
  {
   "cell_type": "code",
   "execution_count": 37,
   "id": "3b5d5b1a-e170-4686-8687-0aa20149bd23",
   "metadata": {},
   "outputs": [],
   "source": [
    "for link in links:\n",
    "    speech_to_bucket(link)"
   ]
  },
  {
   "cell_type": "markdown",
   "id": "3ea72f62-5980-4260-b5f5-a8ecc783af15",
   "metadata": {},
   "source": [
    "## Next Steps\n",
    "-----------------------"
   ]
  },
  {
   "cell_type": "markdown",
   "id": "149c96fd-92ca-4fa1-811e-8c72282f5b53",
   "metadata": {},
   "source": [
    "In this short post we went over how to scrape the JFK library's website to create a collection of JFK speeches. We covered how to do this using [BeautifulSoup](https://www.crummy.com/software/BeautifulSoup/bs4/doc/) and upload them as text files to [Google Cloud Storage](https://cloud.google.com/storage). One thing I could have done is to use an asynchronous HTTP client [AIOHTTP](https://docs.aiohttp.org/en/stable/) to read and write using asynchronous I/O.\n",
    "\n",
    "In the next post we'll go over how to build a speech writer using [Recurrent Neural Networks](https://en.wikipedia.org/wiki/Recurrent_neural_network). Hope you enjoyed this!"
   ]
  }
 ],
 "metadata": {
  "kernelspec": {
   "display_name": "Python 3 (ipykernel)",
   "language": "python",
   "name": "python3"
  },
  "language_info": {
   "codemirror_mode": {
    "name": "ipython",
    "version": 3
   },
   "file_extension": ".py",
   "mimetype": "text/x-python",
   "name": "python",
   "nbconvert_exporter": "python",
   "pygments_lexer": "ipython3",
   "version": "3.9.7"
  }
 },
 "nbformat": 4,
 "nbformat_minor": 5
}
