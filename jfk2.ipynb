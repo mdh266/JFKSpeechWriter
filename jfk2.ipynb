{
 "cells": [
  {
   "cell_type": "markdown",
   "id": "e2fdfc78-95f2-41ea-8933-6e1ccce6ca9a",
   "metadata": {},
   "source": [
    "## Creating An AI-Based JFK Speech Writer: Part 2\n",
    "-----------------------\n",
    "\n",
    "__[1. Introduction](#first-bullet)__\n",
    "\n",
    "__[2. Data Preparation](#second-bullet)__\n",
    "\n",
    "__[3. A Simple Bidirectional GRU Model](#third-bullet)__\n",
    "\n",
    "__[4. Generating Text](#fourth-bullet)__\n",
    "\n",
    "__[5. Next Steps](#fifth-bullet)__\n",
    "\n",
    "\n",
    "## Introduction <a class=\"anchor\" id=\"first-bullet\"></a>\n",
    "----"
   ]
  },
  {
   "cell_type": "code",
   "execution_count": 1,
   "id": "9501bfaf-82da-4796-9d43-2faeb403eafb",
   "metadata": {},
   "outputs": [
    {
     "data": {
      "text/plain": [
       "[PhysicalDevice(name='/physical_device:GPU:0', device_type='GPU')]"
      ]
     },
     "execution_count": 1,
     "metadata": {},
     "output_type": "execute_result"
    }
   ],
   "source": [
    "import numpy as np\n",
    "import tensorflow as tf \n",
    "from google.oauth2 import service_account\n",
    "from google.cloud import storage\n",
    "from google.cloud.exceptions import Conflict\n",
    "\n",
    "\n",
    "tf.compat.v1.logging.set_verbosity('ERROR')\n",
    "tf.config.list_physical_devices('GPU')"
   ]
  },
  {
   "cell_type": "markdown",
   "id": "40b761f9-0cc8-4488-a4fe-de221841d6cb",
   "metadata": {},
   "source": [
    "## Data Preparation <a class=\"anchor\" id=\"second-bullet\"></a>\n",
    "----"
   ]
  },
  {
   "cell_type": "code",
   "execution_count": 2,
   "id": "dbdc91d6-7a75-417b-8b59-87896ef101b4",
   "metadata": {},
   "outputs": [],
   "source": [
    "credentials = service_account.Credentials.from_service_account_file('credentials.json')\n",
    "client = storage.Client(project=credentials.project_id, credentials=credentials)"
   ]
  },
  {
   "cell_type": "code",
   "execution_count": 3,
   "id": "44272e52-23c0-44dc-90c5-16b0f4d0cf43",
   "metadata": {},
   "outputs": [],
   "source": [
    "bucket = client.get_bucket(\"harmon-kennedy\")"
   ]
  },
  {
   "cell_type": "code",
   "execution_count": 4,
   "id": "817b0d05-e64f-43b7-ae43-8f285d6d867e",
   "metadata": {},
   "outputs": [],
   "source": [
    "blob = bucket.blob(\"all_jfk_speeches.txt\")"
   ]
  },
  {
   "cell_type": "code",
   "execution_count": 5,
   "id": "3583a63c-5814-4924-ba25-b48eb26f1dba",
   "metadata": {},
   "outputs": [],
   "source": [
    "text = blob.download_as_text()"
   ]
  },
  {
   "cell_type": "code",
   "execution_count": null,
   "id": "481cf8e1-2fdd-49b3-8761-3732fbf62420",
   "metadata": {},
   "outputs": [],
   "source": []
  },
  {
   "cell_type": "code",
   "execution_count": 6,
   "id": "457436ac-a059-490b-972e-07865c7778ba",
   "metadata": {},
   "outputs": [
    {
     "name": "stdout",
     "output_type": "stream",
     "text": [
      "Length of text: 7734579 characters\n"
     ]
    }
   ],
   "source": [
    "print(f'Length of text: {len(text)} characters')"
   ]
  },
  {
   "cell_type": "code",
   "execution_count": 7,
   "id": "687e8070-acc6-46aa-ac52-078205307ca5",
   "metadata": {},
   "outputs": [
    {
     "name": "stdout",
     "output_type": "stream",
     "text": [
      "67 unique characters\n"
     ]
    }
   ],
   "source": [
    "vocab = sorted(set(text))\n",
    "print(f'{len(vocab)} unique characters')"
   ]
  },
  {
   "cell_type": "code",
   "execution_count": 8,
   "id": "69e5885c-c94f-4aab-9769-50c50c0c86e2",
   "metadata": {},
   "outputs": [],
   "source": [
    "text_in_words = [w for w in text.split(' ') if w.strip() != '' or w == '\\n']"
   ]
  },
  {
   "cell_type": "code",
   "execution_count": 9,
   "id": "49721bdc-5d7e-42dd-93a9-645aaf1bf428",
   "metadata": {},
   "outputs": [
    {
     "name": "stdout",
     "output_type": "stream",
     "text": [
      "Length of text: 1338872 words\n"
     ]
    }
   ],
   "source": [
    "print(f'Length of text: {len(text_in_words)} words')"
   ]
  },
  {
   "cell_type": "code",
   "execution_count": 10,
   "id": "357ae73c-5c78-43f0-bb28-6a00a7156fca",
   "metadata": {},
   "outputs": [
    {
     "name": "stdout",
     "output_type": "stream",
     "text": [
      "42240 unique words\n"
     ]
    }
   ],
   "source": [
    "print(f\"{len(set(text_in_words))} unique words\")"
   ]
  },
  {
   "cell_type": "code",
   "execution_count": 11,
   "id": "5eff3cd0-0b23-48bc-8104-50fe96dc19bf",
   "metadata": {},
   "outputs": [],
   "source": [
    "import string\n",
    " \n",
    "# turn a doc into clean tokens\n",
    "def clean_doc(doc):\n",
    "    # replace '--' with a space ' '\n",
    "    doc = doc.replace('--', ' ')\n",
    "    # split into tokens by white space\n",
    "    tokens = doc.split()\n",
    "    # remove punctuation from each token\n",
    "    table = str.maketrans('', '', string.punctuation)\n",
    "    tokens = [w.translate(table) for w in tokens]\n",
    "    # remove remaining tokens that are not alphabetic\n",
    "    tokens = [word for word in tokens if word.isalpha()]\n",
    "    # make lower case\n",
    "    tokens = [word.lower() for word in tokens]\n",
    "    return tokens"
   ]
  },
  {
   "cell_type": "code",
   "execution_count": 12,
   "id": "55f8db83-9920-467d-bbab-dce5cddce87b",
   "metadata": {},
   "outputs": [],
   "source": [
    "clean_words = np.array(clean_doc(text))"
   ]
  },
  {
   "cell_type": "code",
   "execution_count": 13,
   "id": "f2720385-5146-412d-b740-4bdba2bcdcab",
   "metadata": {},
   "outputs": [],
   "source": [
    "clean_text = \" \".join(clean_words)"
   ]
  },
  {
   "cell_type": "code",
   "execution_count": 14,
   "id": "78fcdd29-d1d3-45d1-94a7-3375d67563c8",
   "metadata": {},
   "outputs": [
    {
     "data": {
      "text/plain": [
       "'of particular importance to south dakota are the farm policies of the republican party the party of benson nixon and mundt the party which offers our young people no incentive to return to the farm which offers the farmer only the prospect of lower and lower income and which offers the nation the vi'"
      ]
     },
     "execution_count": 14,
     "metadata": {},
     "output_type": "execute_result"
    }
   ],
   "source": [
    "clean_text[:300]"
   ]
  },
  {
   "cell_type": "code",
   "execution_count": 15,
   "id": "31e792fb-2273-42f5-ba13-7e5aff02e724",
   "metadata": {},
   "outputs": [
    {
     "name": "stdout",
     "output_type": "stream",
     "text": [
      "1322685 number of clean words\n"
     ]
    }
   ],
   "source": [
    "print(f\"{len(clean_words)} number of clean words\")"
   ]
  },
  {
   "cell_type": "code",
   "execution_count": 16,
   "id": "f84fb4b9-c4a0-4e15-b984-f23593f009dd",
   "metadata": {},
   "outputs": [
    {
     "name": "stdout",
     "output_type": "stream",
     "text": [
      "22681 unique clean words\n"
     ]
    }
   ],
   "source": [
    "print(f\"{len(set(clean_words))} unique clean words\")"
   ]
  },
  {
   "cell_type": "code",
   "execution_count": null,
   "id": "91a7d561-f0fb-4db4-b09d-771c82c099be",
   "metadata": {},
   "outputs": [],
   "source": []
  },
  {
   "cell_type": "code",
   "execution_count": 17,
   "id": "ac90d471-6f4c-4b92-9e63-c2c179dd06a9",
   "metadata": {},
   "outputs": [
    {
     "data": {
      "text/plain": [
       "7533442"
      ]
     },
     "execution_count": 17,
     "metadata": {},
     "output_type": "execute_result"
    }
   ],
   "source": [
    "len(clean_text)"
   ]
  },
  {
   "cell_type": "code",
   "execution_count": 18,
   "id": "dd525c78-50fb-4edf-a80d-1d9bb0cfe9cf",
   "metadata": {},
   "outputs": [
    {
     "name": "stdout",
     "output_type": "stream",
     "text": [
      "Metal device set to: Apple M1\n"
     ]
    },
    {
     "name": "stderr",
     "output_type": "stream",
     "text": [
      "2023-04-06 17:15:20.988043: I tensorflow/core/common_runtime/pluggable_device/pluggable_device_factory.cc:305] Could not identify NUMA node of platform GPU ID 0, defaulting to 0. Your kernel may not have been built with NUMA support.\n",
      "2023-04-06 17:15:20.988277: I tensorflow/core/common_runtime/pluggable_device/pluggable_device_factory.cc:271] Created TensorFlow device (/job:localhost/replica:0/task:0/device:GPU:0 with 0 MB memory) -> physical PluggableDevice (device: 0, name: METAL, pci bus id: <undefined>)\n"
     ]
    }
   ],
   "source": [
    "from tensorflow.keras.layers.experimental.preprocessing import TextVectorization\n",
    "\n",
    "vocab_size = 10000\n",
    "seq_length = 20\n",
    "\n",
    "vectorize_layer = TextVectorization(\n",
    "    standardize=\"lower_and_strip_punctuation\",\n",
    "    max_tokens=vocab_size,\n",
    "    output_mode=\"int\",\n",
    "    pad_to_max_tokens=True,\n",
    "    output_sequence_length=seq_length,\n",
    ")"
   ]
  },
  {
   "cell_type": "code",
   "execution_count": 19,
   "id": "74c5c2cb-31e0-492f-823d-5402f1e3c1b8",
   "metadata": {},
   "outputs": [
    {
     "name": "stderr",
     "output_type": "stream",
     "text": [
      "2023-04-06 17:15:22.011449: W tensorflow/core/platform/profile_utils/cpu_utils.cc:128] Failed to get CPU frequency: 0 Hz\n",
      "2023-04-06 17:15:22.050759: I tensorflow/core/grappler/optimizers/custom_graph_optimizer_registry.cc:113] Plugin optimizer for device_type GPU is enabled.\n"
     ]
    }
   ],
   "source": [
    "vectorize_layer.adapt([text])"
   ]
  },
  {
   "cell_type": "code",
   "execution_count": 20,
   "id": "b0adfe7c-c9b4-4997-9d81-53332c08d40a",
   "metadata": {},
   "outputs": [],
   "source": [
    "voc = vectorize_layer.get_vocabulary()\n",
    "word_index = dict(zip(voc, range(len(voc))))"
   ]
  },
  {
   "cell_type": "code",
   "execution_count": 21,
   "id": "97017125-2d21-4d13-ad8a-7ee54a9ed1b8",
   "metadata": {},
   "outputs": [
    {
     "data": {
      "text/plain": [
       "3"
      ]
     },
     "execution_count": 21,
     "metadata": {},
     "output_type": "execute_result"
    }
   ],
   "source": [
    "word_index['of']"
   ]
  },
  {
   "cell_type": "code",
   "execution_count": 22,
   "id": "a9b20cd0-2586-448a-832d-0c50760769af",
   "metadata": {},
   "outputs": [
    {
     "data": {
      "text/plain": [
       "758"
      ]
     },
     "execution_count": 22,
     "metadata": {},
     "output_type": "execute_result"
    }
   ],
   "source": [
    "word_index['particular']"
   ]
  },
  {
   "cell_type": "code",
   "execution_count": 23,
   "id": "41f01a9d-5f4b-4388-a29e-468ddb8e5cab",
   "metadata": {},
   "outputs": [],
   "source": [
    "words_seq = [clean_words[i:i + seq_length] for i in range(0, len(clean_words) - seq_length-1)]\n",
    "next_word = [clean_words[i + seq_length] for i in range(0, len(clean_words) - seq_length-1)]"
   ]
  },
  {
   "cell_type": "code",
   "execution_count": 24,
   "id": "50be1c2f-bf0e-4e22-8a9e-e03cc10c65b2",
   "metadata": {},
   "outputs": [
    {
     "data": {
      "text/plain": [
       "1322664"
      ]
     },
     "execution_count": 24,
     "metadata": {},
     "output_type": "execute_result"
    }
   ],
   "source": [
    "len(words_seq)"
   ]
  },
  {
   "cell_type": "code",
   "execution_count": 25,
   "id": "b121c151-2f0a-43c7-af72-4442aa2d4f1b",
   "metadata": {},
   "outputs": [],
   "source": [
    "next_cat = np.array([word_index.get(word, 1) for word in next_word])"
   ]
  },
  {
   "cell_type": "code",
   "execution_count": 26,
   "id": "9f0568dd-6eb0-4b74-ba89-c66be7235feb",
   "metadata": {},
   "outputs": [
    {
     "data": {
      "text/plain": [
       "(1322664,)"
      ]
     },
     "execution_count": 26,
     "metadata": {},
     "output_type": "execute_result"
    }
   ],
   "source": [
    "next_cat.shape"
   ]
  },
  {
   "cell_type": "code",
   "execution_count": 28,
   "id": "0676294e-0c54-4686-ac32-5b08a4ca6b37",
   "metadata": {},
   "outputs": [],
   "source": [
    "X = [\" \".join(words_seq[i]) for i in range(len(next_word)) if next_cat[i] != 1]"
   ]
  },
  {
   "cell_type": "code",
   "execution_count": 29,
   "id": "c20d5335-a3cb-4b00-9bc6-a3a382ccf688",
   "metadata": {},
   "outputs": [],
   "source": [
    "y = tf.keras.utils.to_categorical([cat for cat in next_cat if cat != 1])"
   ]
  },
  {
   "cell_type": "code",
   "execution_count": 31,
   "id": "c5d66dd7-4830-4e8a-9581-c8c4b6b304d9",
   "metadata": {},
   "outputs": [
    {
     "data": {
      "text/plain": [
       "(1299332,)"
      ]
     },
     "execution_count": 31,
     "metadata": {},
     "output_type": "execute_result"
    }
   ],
   "source": [
    "X = np.array(X)\n",
    "X.shape"
   ]
  },
  {
   "cell_type": "code",
   "execution_count": 32,
   "id": "f5fedb18-88b8-48bc-a1b3-2b0ef538a23e",
   "metadata": {},
   "outputs": [
    {
     "data": {
      "text/plain": [
       "(1299332, 10000)"
      ]
     },
     "execution_count": 32,
     "metadata": {},
     "output_type": "execute_result"
    }
   ],
   "source": [
    "y.shape"
   ]
  },
  {
   "cell_type": "code",
   "execution_count": 33,
   "id": "720692c8-7992-492e-a548-a434902a8726",
   "metadata": {},
   "outputs": [
    {
     "data": {
      "text/plain": [
       "'of particular importance to south dakota are the farm policies of the republican party the party of benson nixon and'"
      ]
     },
     "execution_count": 33,
     "metadata": {},
     "output_type": "execute_result"
    }
   ],
   "source": [
    "X[0]"
   ]
  },
  {
   "cell_type": "code",
   "execution_count": 34,
   "id": "abcb148f-7bd2-47dd-a30c-cd668f96e2f2",
   "metadata": {},
   "outputs": [
    {
     "data": {
      "text/plain": [
       "<tf.Tensor: shape=(20,), dtype=int64, numpy=\n",
       "array([   3,  758,  692,    5,  430, 2268,   16,    2,  156,  280,    3,\n",
       "          2,  152,   68,    2,   68,    3,  756,  193,    4])>"
      ]
     },
     "execution_count": 34,
     "metadata": {},
     "output_type": "execute_result"
    }
   ],
   "source": [
    "vectorize_layer.call(X[0])"
   ]
  },
  {
   "cell_type": "code",
   "execution_count": 35,
   "id": "4f039260-604e-4ff3-a3ea-dbb9a4cd802d",
   "metadata": {},
   "outputs": [
    {
     "data": {
      "text/plain": [
       "['mundt', 'the']"
      ]
     },
     "execution_count": 35,
     "metadata": {},
     "output_type": "execute_result"
    }
   ],
   "source": [
    "next_word[:2]"
   ]
  },
  {
   "cell_type": "code",
   "execution_count": 36,
   "id": "4713e693-f6fe-4b92-930e-1e8d2c987936",
   "metadata": {},
   "outputs": [
    {
     "data": {
      "text/plain": [
       "2"
      ]
     },
     "execution_count": 36,
     "metadata": {},
     "output_type": "execute_result"
    }
   ],
   "source": [
    "word_index['the']"
   ]
  },
  {
   "cell_type": "code",
   "execution_count": 37,
   "id": "7294ad86-9e48-4bbb-b111-dddbf8f2d60a",
   "metadata": {},
   "outputs": [
    {
     "data": {
      "text/plain": [
       "92"
      ]
     },
     "execution_count": 37,
     "metadata": {},
     "output_type": "execute_result"
    }
   ],
   "source": [
    "word_index['nation']"
   ]
  },
  {
   "cell_type": "code",
   "execution_count": 38,
   "id": "c7ef562b-372b-4173-a3f3-d68f1ef25d50",
   "metadata": {},
   "outputs": [
    {
     "data": {
      "text/plain": [
       "1"
      ]
     },
     "execution_count": 38,
     "metadata": {},
     "output_type": "execute_result"
    }
   ],
   "source": [
    "word_index['[UNK]']"
   ]
  },
  {
   "cell_type": "code",
   "execution_count": 39,
   "id": "d8b914f2-6a59-4ef0-b7b2-669c3c947a12",
   "metadata": {},
   "outputs": [
    {
     "data": {
      "text/plain": [
       "array([0., 0., 0., ..., 0., 0., 0.], dtype=float32)"
      ]
     },
     "execution_count": 39,
     "metadata": {},
     "output_type": "execute_result"
    }
   ],
   "source": [
    "y[0]"
   ]
  },
  {
   "cell_type": "code",
   "execution_count": 40,
   "id": "cd0151ef-f6b7-4364-b500-64f6f8117b76",
   "metadata": {},
   "outputs": [
    {
     "data": {
      "text/plain": [
       "2"
      ]
     },
     "execution_count": 40,
     "metadata": {},
     "output_type": "execute_result"
    }
   ],
   "source": [
    "np.argmax(y[1])"
   ]
  },
  {
   "cell_type": "markdown",
   "id": "cd9371bd-fba2-4e1b-80d2-cbd559f98a7e",
   "metadata": {
    "tags": []
   },
   "source": [
    "## Building A Simple Bidirectional GRU Model  <a class=\"anchor\" id=\"third-bullet\"></a>\n",
    "\n",
    "\n",
    "<figure>\n",
    "<img src=\"images/gru.png\" alt=\"Trulli\" style=\"width:75%\">\n",
    "<figcaption align = \"center\">\n",
    "From https://colah.github.io/posts/2015-08-Understanding-LSTMs/\n",
    "</figcaption>\n",
    "</figure>\n",
    "\n",
    "<figure>\n",
    "<img src=\"images/bidirectionalgru.png\" alt=\"Trulli\" style=\"width:75%\">\n",
    "<figcaption align = \"center\">\n",
    "From https://www.researchgate.net/figure/The-structure-of-a-bidirectional-GRU-model_fig4_366204325\n",
    "</figcaption>\n",
    "</figure>\n"
   ]
  },
  {
   "cell_type": "code",
   "execution_count": 42,
   "id": "e8f7b61a-8021-400a-a988-9158e897b201",
   "metadata": {},
   "outputs": [],
   "source": [
    "from typing import Dict"
   ]
  },
  {
   "cell_type": "code",
   "execution_count": 165,
   "id": "dd297be0-eca7-4298-a899-b4c3509da016",
   "metadata": {},
   "outputs": [],
   "source": [
    "class JFKSpeechWriter(tf.keras.Model):\n",
    "    def __init__(self, \n",
    "                 text: str, \n",
    "                 seq_length: int,\n",
    "                 vocab_size: int, \n",
    "                 embedding_dim: int, \n",
    "                 units: int) -> None:\n",
    "        \n",
    "        super().__init__()\n",
    "        \n",
    "        self.vectorizer_layer = TextVectorization(\n",
    "                                    standardize=\"lower_and_strip_punctuation\",\n",
    "                                    max_tokens=vocab_size,\n",
    "                                    output_mode=\"int\",\n",
    "                                    pad_to_max_tokens=True,\n",
    "                                    output_sequence_length=seq_length,\n",
    "                              )\n",
    "        self.embedding_layer =  tf.keras.layers.Embedding(vocab_size, embedding_dim)\n",
    "        self.GRU_layer = tf.keras.layers.Bidirectional(tf.keras.layers.GRU(units))\n",
    "        self.dense_layer = tf.keras.layers.Dense(vocab_size, activation='softmax')\n",
    "        \n",
    "        self.vectorizer_layer.adapt([text])\n",
    "        \n",
    "    def call(self, input_str: str) -> int:\n",
    "        # x = self.input_layer(input_str)\n",
    "        x = self.vectorizer_layer(input_str)\n",
    "        x = self.embedding_layer(x)\n",
    "        x = self.GRU_layer(x)\n",
    "        return self.dense_layer(x)\n",
    "        \n",
    "    def get_wordmap(self) -> Dict[int, str]:\n",
    "        voc = self.vectorizer_layer.get_vocabulary()\n",
    "        word_index = dict(zip(voc, range(len(voc))))\n",
    "        return dict(map(reversed, word_index.items()))\n"
   ]
  },
  {
   "cell_type": "code",
   "execution_count": 166,
   "id": "e437ea74-66aa-4443-b9ba-0546c723d2a2",
   "metadata": {},
   "outputs": [
    {
     "name": "stderr",
     "output_type": "stream",
     "text": [
      "2023-04-06 18:00:10.472779: I tensorflow/core/grappler/optimizers/custom_graph_optimizer_registry.cc:113] Plugin optimizer for device_type GPU is enabled.\n"
     ]
    }
   ],
   "source": [
    "model = JFKSpeechWriter(text=text, \n",
    "                        seq_length=20, \n",
    "                        vocab_size=10000, \n",
    "                        embedding_dim=128, \n",
    "                        units=64)"
   ]
  },
  {
   "cell_type": "code",
   "execution_count": 167,
   "id": "90115353-02c6-4a9b-ba91-5d3f58ee31e3",
   "metadata": {},
   "outputs": [],
   "source": [
    "model.compile(loss='categorical_crossentropy', optimizer='adam')"
   ]
  },
  {
   "cell_type": "code",
   "execution_count": null,
   "id": "f3a75bc4-47ec-4fb6-9293-88f413a7f782",
   "metadata": {},
   "outputs": [],
   "source": []
  },
  {
   "cell_type": "code",
   "execution_count": 47,
   "id": "63d17714-af04-444e-8eb7-9093ceae9a1c",
   "metadata": {},
   "outputs": [],
   "source": [
    "from sklearn.utils import shuffle"
   ]
  },
  {
   "cell_type": "code",
   "execution_count": 48,
   "id": "9f976cdd-2a28-487d-9590-908aee6cfd77",
   "metadata": {},
   "outputs": [],
   "source": [
    "X_train, y_train = X[:100000], y[:100000]"
   ]
  },
  {
   "cell_type": "code",
   "execution_count": 49,
   "id": "109c3692-dfcc-4477-8049-99a421ae1b8c",
   "metadata": {},
   "outputs": [],
   "source": [
    "X_train, y_train = shuffle(X_train, y_train)"
   ]
  },
  {
   "cell_type": "code",
   "execution_count": 50,
   "id": "dd91066d-360d-4965-b820-0ffb377b57a9",
   "metadata": {},
   "outputs": [
    {
     "data": {
      "text/plain": [
       "'state laws in states such as massachusetts on the other hand union security provisions more liberal than tafthartley are not'"
      ]
     },
     "execution_count": 50,
     "metadata": {},
     "output_type": "execute_result"
    }
   ],
   "source": [
    "X_train[0]"
   ]
  },
  {
   "cell_type": "code",
   "execution_count": 168,
   "id": "f0d5852d-b459-4076-8da3-972b6e4bc76a",
   "metadata": {},
   "outputs": [
    {
     "name": "stdout",
     "output_type": "stream",
     "text": [
      "Epoch 1/10\n"
     ]
    },
    {
     "name": "stderr",
     "output_type": "stream",
     "text": [
      "2023-04-06 18:00:17.790011: I tensorflow/core/grappler/optimizers/custom_graph_optimizer_registry.cc:113] Plugin optimizer for device_type GPU is enabled.\n",
      "2023-04-06 18:00:18.016253: I tensorflow/core/grappler/optimizers/custom_graph_optimizer_registry.cc:113] Plugin optimizer for device_type GPU is enabled.\n",
      "2023-04-06 18:00:18.025332: I tensorflow/core/grappler/optimizers/custom_graph_optimizer_registry.cc:113] Plugin optimizer for device_type GPU is enabled.\n",
      "2023-04-06 18:00:18.136763: I tensorflow/core/grappler/optimizers/custom_graph_optimizer_registry.cc:113] Plugin optimizer for device_type GPU is enabled.\n",
      "2023-04-06 18:00:18.151356: I tensorflow/core/grappler/optimizers/custom_graph_optimizer_registry.cc:113] Plugin optimizer for device_type GPU is enabled.\n"
     ]
    },
    {
     "name": "stdout",
     "output_type": "stream",
     "text": [
      "624/625 [============================>.] - ETA: 0s - loss: 6.7281"
     ]
    },
    {
     "name": "stderr",
     "output_type": "stream",
     "text": [
      "2023-04-06 18:00:38.088691: I tensorflow/core/grappler/optimizers/custom_graph_optimizer_registry.cc:113] Plugin optimizer for device_type GPU is enabled.\n",
      "2023-04-06 18:00:38.185708: I tensorflow/core/grappler/optimizers/custom_graph_optimizer_registry.cc:113] Plugin optimizer for device_type GPU is enabled.\n",
      "2023-04-06 18:00:38.195500: I tensorflow/core/grappler/optimizers/custom_graph_optimizer_registry.cc:113] Plugin optimizer for device_type GPU is enabled.\n"
     ]
    },
    {
     "name": "stdout",
     "output_type": "stream",
     "text": [
      "625/625 [==============================] - 24s 36ms/step - loss: 6.7286 - val_loss: 6.4995\n",
      "Epoch 2/10\n",
      "625/625 [==============================] - 21s 33ms/step - loss: 6.3093 - val_loss: 6.4152\n",
      "Epoch 3/10\n",
      "625/625 [==============================] - 21s 33ms/step - loss: 6.1363 - val_loss: 6.3013\n",
      "Epoch 4/10\n",
      "625/625 [==============================] - 20s 33ms/step - loss: 5.9251 - val_loss: 6.2154\n",
      "Epoch 5/10\n",
      "625/625 [==============================] - 21s 33ms/step - loss: 5.7108 - val_loss: 6.1584\n",
      "Epoch 6/10\n",
      "625/625 [==============================] - 21s 34ms/step - loss: 5.5084 - val_loss: 6.1019\n",
      "Epoch 7/10\n",
      "625/625 [==============================] - 21s 34ms/step - loss: 5.3100 - val_loss: 6.0729\n",
      "Epoch 8/10\n",
      "625/625 [==============================] - 21s 33ms/step - loss: 5.1067 - val_loss: 6.0613\n",
      "Epoch 9/10\n",
      "625/625 [==============================] - 22s 35ms/step - loss: 4.9310 - val_loss: 6.0495\n",
      "Epoch 10/10\n",
      "625/625 [==============================] - 21s 33ms/step - loss: 4.7657 - val_loss: 6.0480\n"
     ]
    },
    {
     "data": {
      "text/plain": [
       "<keras.callbacks.History at 0x2dbdfd430>"
      ]
     },
     "execution_count": 168,
     "metadata": {},
     "output_type": "execute_result"
    }
   ],
   "source": [
    "model.fit(X_train, y_train, epochs=10, batch_size=128, validation_split=0.2)"
   ]
  },
  {
   "cell_type": "code",
   "execution_count": 169,
   "id": "e56b263f-563d-453b-8442-bc19585a0948",
   "metadata": {},
   "outputs": [
    {
     "name": "stdout",
     "output_type": "stream",
     "text": [
      "Model: \"jfk_speech_writer_3\"\n",
      "_________________________________________________________________\n",
      " Layer (type)                Output Shape              Param #   \n",
      "=================================================================\n",
      " text_vectorization_4 (TextV  multiple                 0         \n",
      " ectorization)                                                   \n",
      "                                                                 \n",
      " embedding_3 (Embedding)     multiple                  1280000   \n",
      "                                                                 \n",
      " bidirectional_3 (Bidirectio  multiple                 74496     \n",
      " nal)                                                            \n",
      "                                                                 \n",
      " dense_3 (Dense)             multiple                  1290000   \n",
      "                                                                 \n",
      "=================================================================\n",
      "Total params: 2,644,496\n",
      "Trainable params: 2,644,496\n",
      "Non-trainable params: 0\n",
      "_________________________________________________________________\n"
     ]
    }
   ],
   "source": [
    "model.summary()"
   ]
  },
  {
   "cell_type": "markdown",
   "id": "0f1185a6-16e6-4110-892f-768c77c0296e",
   "metadata": {},
   "source": [
    "## Generating Text  <a class=\"anchor\" id=\"fourth-bullet\"></a>\n",
    "-----------"
   ]
  },
  {
   "cell_type": "code",
   "execution_count": 161,
   "id": "185f96ca-5f2b-4580-bc14-194cb2963bed",
   "metadata": {},
   "outputs": [],
   "source": [
    "test = str(X[688394])"
   ]
  },
  {
   "cell_type": "code",
   "execution_count": 162,
   "id": "626a08ad-a625-4c14-b148-ab071a2e6435",
   "metadata": {},
   "outputs": [
    {
     "data": {
      "text/plain": [
       "'and constitution and in the american public school system and he stated flatly that he recognized no power in the'"
      ]
     },
     "execution_count": 162,
     "metadata": {},
     "output_type": "execute_result"
    }
   ],
   "source": [
    "test"
   ]
  },
  {
   "cell_type": "code",
   "execution_count": 163,
   "id": "9385fdf7-eeb3-462c-ac0b-a6210ddb3b7e",
   "metadata": {},
   "outputs": [
    {
     "name": "stderr",
     "output_type": "stream",
     "text": [
      "2023-04-06 17:59:49.825963: I tensorflow/core/grappler/optimizers/custom_graph_optimizer_registry.cc:113] Plugin optimizer for device_type GPU is enabled.\n",
      "2023-04-06 17:59:49.895592: I tensorflow/core/grappler/optimizers/custom_graph_optimizer_registry.cc:113] Plugin optimizer for device_type GPU is enabled.\n",
      "2023-04-06 17:59:49.905844: I tensorflow/core/grappler/optimizers/custom_graph_optimizer_registry.cc:113] Plugin optimizer for device_type GPU is enabled.\n"
     ]
    }
   ],
   "source": [
    "y_pred = model.predict([test])"
   ]
  },
  {
   "cell_type": "code",
   "execution_count": 170,
   "id": "4ca25393-54b9-46e6-832c-9a19a68d008e",
   "metadata": {},
   "outputs": [],
   "source": [
    "reverse_word_map = model.get_wordmap()"
   ]
  },
  {
   "cell_type": "code",
   "execution_count": null,
   "id": "649441b5-ee54-47f7-bd60-19dcad6a3674",
   "metadata": {},
   "outputs": [],
   "source": []
  },
  {
   "cell_type": "code",
   "execution_count": 186,
   "id": "e4045a40-ed4a-43e9-bc4c-99e99bd4f687",
   "metadata": {},
   "outputs": [
    {
     "data": {
      "text/plain": [
       "'united'"
      ]
     },
     "execution_count": 186,
     "metadata": {},
     "output_type": "execute_result"
    }
   ],
   "source": [
    "reverse_word_map[np.argmax(y_pred[0])]"
   ]
  },
  {
   "cell_type": "code",
   "execution_count": null,
   "id": "fceef283-b331-46c3-9ff3-0d8bec8b178f",
   "metadata": {},
   "outputs": [],
   "source": []
  },
  {
   "cell_type": "code",
   "execution_count": 172,
   "id": "966ff16b-4dc2-465c-947a-5a7e0220b276",
   "metadata": {},
   "outputs": [],
   "source": [
    "def next_words(input_str, n):\n",
    "    final_str = ''\n",
    "    for i in range(n):\n",
    "        prediction = model.predict([input_str], verbose=0)\n",
    "        next_word = reverse_word_map[np.argmax(prediction[0])]\n",
    "        final_str += next_word + ' ' \n",
    "        input_str += ' ' + next_word\n",
    "        input_str = ' '.join(input_str.split(' ')[1:])\n",
    "    return final_str"
   ]
  },
  {
   "cell_type": "code",
   "execution_count": 184,
   "id": "d16adbda-a19d-4077-b874-f9bd3a882b1a",
   "metadata": {},
   "outputs": [],
   "source": [
    "new_text = next_words(test, 10)"
   ]
  },
  {
   "cell_type": "code",
   "execution_count": 185,
   "id": "ddebd14f-9b7a-47af-bc03-accd70231cf2",
   "metadata": {},
   "outputs": [
    {
     "data": {
      "text/plain": [
       "'and constitution and in the american public school system and he stated flatly that he recognized no power in the words of the house of representatives and women of the '"
      ]
     },
     "execution_count": 185,
     "metadata": {},
     "output_type": "execute_result"
    }
   ],
   "source": [
    "test + \" \" + new_text"
   ]
  },
  {
   "cell_type": "markdown",
   "id": "2c5ee53b-ebf4-4ba3-9f03-cc5dec98703d",
   "metadata": {},
   "source": [
    "## Next Steps  <a class=\"anchor\" id=\"fifth-bullet\"></a>\n",
    "-------------\n"
   ]
  },
  {
   "cell_type": "code",
   "execution_count": null,
   "id": "78b83db6-16ba-45f3-a32a-53cc1c027674",
   "metadata": {},
   "outputs": [],
   "source": []
  },
  {
   "cell_type": "code",
   "execution_count": null,
   "id": "5e771b15-f506-4ab9-a94e-2e7ef907fee2",
   "metadata": {},
   "outputs": [],
   "source": []
  }
 ],
 "metadata": {
  "kernelspec": {
   "display_name": "Python (deepgreen)",
   "language": "python",
   "name": "deepgreen"
  },
  "language_info": {
   "codemirror_mode": {
    "name": "ipython",
    "version": 3
   },
   "file_extension": ".py",
   "mimetype": "text/x-python",
   "name": "python",
   "nbconvert_exporter": "python",
   "pygments_lexer": "ipython3",
   "version": "3.8.12"
  }
 },
 "nbformat": 4,
 "nbformat_minor": 5
}
