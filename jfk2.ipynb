{
 "cells": [
  {
   "cell_type": "markdown",
   "id": "3ada2cf0",
   "metadata": {},
   "source": [
    "## Creating An AI-Based JFK Speech Writer: Part 2\n",
    "-----------------------\n",
    "\n",
    "__[1. Introduction](#first-bullet)__\n",
    "\n",
    "__[2. Data Preparation](#second-bullet)__\n",
    "\n",
    "__[3. A Bidirectional GRU Model](#third-bullet)__\n",
    "\n",
    "__[4. Generating Text](#fourth-bullet)__\n",
    "\n",
    "__[5. Next Steps](#fifth-bullet)__\n",
    "\n",
    "\n",
    "## Introduction <a class=\"anchor\" id=\"first-bullet\"></a>\n",
    "----\n",
    "\n",
    "In this blog post I follow up on the last [post](https://mdh266.github.io/posts/jfk1) and develop a model for text generation using [Recurrent Neural Networks](https://en.wikipedia.org/wiki/Recurrent_neural_network). I'll build a bi-directional [gated recurrent unit (GRU)](https://en.wikipedia.org/wiki/Gated_recurrent_unit) that is trained on speeches made by [President John F. Kennedy](https://en.wikipedia.org/wiki/John_F._Kennedy). Specifically, I'll go over how to build a model that predicts the \"next word\" in a sentence based off a sequence of the words coming before it. This project was more challenging than I initially anticipated due to the data preparation needs of the problem as well as the fact the performance is hard to quantify. The data preparation was more involved then other posts that I have done on natural language processing since it involves modeling a sequences of words instead of using a \"[bag-of-words](https://en.wikipedia.org/wiki/Bag-of-words_model).\" I'll go over some of these details more in the post.\n",
    " \n",
    "The concept of sequence modeling in [recurrent neural networks](https://en.wikipedia.org/wiki/Recurrent_neural_network) is also different from other models that I have done in the past and I will spend some time covering this topic. Interestingly, the next word prediction turns out to be a multi-class classification problem, albeit with a very large number of classes! Let's get started with the problem. \n",
    "\n",
    "The first step is to import the necessary [TensorFlow](https://www.tensorflow.org/) and [Google Cloud](https://www.tensorflow.org/) Python packages (since the data is in [Google Cloud Storage](https://cloud.google.com/storage?)) :"
   ]
  },
  {
   "cell_type": "code",
   "execution_count": 1,
   "id": "fe943e1e",
   "metadata": {},
   "outputs": [
    {
     "data": {
      "text/plain": [
       "[PhysicalDevice(name='/physical_device:GPU:0', device_type='GPU')]"
      ]
     },
     "execution_count": 1,
     "metadata": {},
     "output_type": "execute_result"
    }
   ],
   "source": [
    "import numpy as np\n",
    "import tensorflow as tf \n",
    "\n",
    "from google.oauth2 import service_account\n",
    "from google.cloud import storage\n",
    "\n",
    "tf.compat.v1.logging.set_verbosity('ERROR')\n",
    "tf.config.list_physical_devices('GPU')"
   ]
  },
  {
   "cell_type": "code",
   "execution_count": 2,
   "id": "957295c3",
   "metadata": {},
   "outputs": [
    {
     "name": "stdout",
     "output_type": "stream",
     "text": [
      "2.9.0\n"
     ]
    }
   ],
   "source": [
    "print(tf.__version__)"
   ]
  },
  {
   "cell_type": "markdown",
   "id": "e5075500",
   "metadata": {},
   "source": [
    "## Data Preparation <a class=\"anchor\" id=\"second-bullet\"></a>\n",
    "----"
   ]
  },
  {
   "cell_type": "markdown",
   "id": "9b4ebb9b",
   "metadata": {},
   "source": [
    "Next I connect to [Google Cloud Storage](https://cloud.google.com/storage?) to download all the concatenated speeches by President Kennedy. To do this I get my GCP credentials and then instantiate the client to connect to the bucket `gs://harmon-kennedy/`"
   ]
  },
  {
   "cell_type": "code",
   "execution_count": 3,
   "id": "e5455fee",
   "metadata": {},
   "outputs": [],
   "source": [
    "credentials = service_account.Credentials.from_service_account_file('credentials.json')\n",
    "client = storage.Client(project=credentials.project_id, credentials=credentials)"
   ]
  },
  {
   "cell_type": "code",
   "execution_count": 4,
   "id": "af920e87",
   "metadata": {},
   "outputs": [],
   "source": [
    "bucket = client.get_bucket(\"harmon-kennedy\")"
   ]
  },
  {
   "cell_type": "markdown",
   "id": "b1aab038",
   "metadata": {},
   "source": [
    "Now I can download all the speeches that were concatenated into one file,"
   ]
  },
  {
   "cell_type": "code",
   "execution_count": 5,
   "id": "1a2046f7",
   "metadata": {},
   "outputs": [],
   "source": [
    "blob = bucket.blob(\"all_jfk_speeches.txt\")\n",
    "text = blob.download_as_text()"
   ]
  },
  {
   "cell_type": "markdown",
   "id": "cd7d2b4d",
   "metadata": {},
   "source": [
    "I can see the first 300 characters of the text are,"
   ]
  },
  {
   "cell_type": "code",
   "execution_count": 6,
   "id": "f51c1655",
   "metadata": {},
   "outputs": [
    {
     "data": {
      "text/plain": [
       "'Of particular importance to South Dakota are the farm policies of the Republican party - the party of Benson, Nixon and Mundt - the party which offers our young people no incentive to return to the farm - which offers the farmer only the prospect of lower and lower income - and which offers the nati'"
      ]
     },
     "execution_count": 6,
     "metadata": {},
     "output_type": "execute_result"
    }
   ],
   "source": [
    "text[:300]"
   ]
  },
  {
   "cell_type": "markdown",
   "id": "c38c1f03",
   "metadata": {},
   "source": [
    "To get situated with the data I can get the number of characters in the text as well as the number of unique characters,"
   ]
  },
  {
   "cell_type": "code",
   "execution_count": 7,
   "id": "d441a507",
   "metadata": {},
   "outputs": [
    {
     "name": "stdout",
     "output_type": "stream",
     "text": [
      "Length of text: 7734579 characters\n"
     ]
    }
   ],
   "source": [
    "print(f'Length of text: {len(text)} characters')"
   ]
  },
  {
   "cell_type": "code",
   "execution_count": 8,
   "id": "8675b015",
   "metadata": {},
   "outputs": [
    {
     "name": "stdout",
     "output_type": "stream",
     "text": [
      "67 unique characters\n"
     ]
    }
   ],
   "source": [
    "vocab = sorted(set(text))\n",
    "print(f'{len(vocab)} unique characters')"
   ]
  },
  {
   "cell_type": "markdown",
   "id": "ba440b71",
   "metadata": {},
   "source": [
    "Since I'll be making a word level model this isn't totally helpful. Instead I'll get the total number of words and number of unique words. To do this I need to clean the text; convert newline characters to spaces, remove non-English characters and convert characters to lower case."
   ]
  },
  {
   "cell_type": "code",
   "execution_count": 9,
   "id": "cae66551",
   "metadata": {},
   "outputs": [],
   "source": [
    "words = text.replace(\"\\n\", \" \").split(\" \")"
   ]
  },
  {
   "cell_type": "code",
   "execution_count": 10,
   "id": "253ae10e",
   "metadata": {},
   "outputs": [],
   "source": [
    "clean_words = [word.lower() for word in words if word.isalpha()]"
   ]
  },
  {
   "cell_type": "code",
   "execution_count": 11,
   "id": "27f0de50",
   "metadata": {},
   "outputs": [],
   "source": [
    "clean_text = \" \".join(clean_words)"
   ]
  },
  {
   "cell_type": "markdown",
   "id": "f94c5609",
   "metadata": {},
   "source": [
    "The impact this had on the same text from above can be seen below,"
   ]
  },
  {
   "cell_type": "code",
   "execution_count": 12,
   "id": "5f2a4bd0",
   "metadata": {},
   "outputs": [
    {
     "data": {
      "text/plain": [
       "'of particular importance to south dakota are the farm policies of the republican party the party of nixon and mundt the party which offers our young people no incentive to return to the farm which offers the farmer only the prospect of lower and lower income and which offers the nation the vision of'"
      ]
     },
     "execution_count": 12,
     "metadata": {},
     "output_type": "execute_result"
    }
   ],
   "source": [
    "clean_text[:300]"
   ]
  },
  {
   "cell_type": "markdown",
   "id": "e0208149",
   "metadata": {},
   "source": [
    "The total number of clean words and unique clean words in the text are,"
   ]
  },
  {
   "cell_type": "code",
   "execution_count": 14,
   "id": "4947ddc6",
   "metadata": {},
   "outputs": [
    {
     "name": "stdout",
     "output_type": "stream",
     "text": [
      "1196835 number of clean words\n"
     ]
    }
   ],
   "source": [
    "print(f\"{len(clean_words)} number of clean words\")"
   ]
  },
  {
   "cell_type": "code",
   "execution_count": 15,
   "id": "e3f18f31",
   "metadata": {},
   "outputs": [
    {
     "name": "stdout",
     "output_type": "stream",
     "text": [
      "19291 unique clean words\n"
     ]
    }
   ],
   "source": [
    "print(f\"{len(set(clean_words))} unique clean words\")"
   ]
  },
  {
   "cell_type": "markdown",
   "id": "8d0b4c97",
   "metadata": {},
   "source": [
    "Now let's talk about how we can process our text data for training a model to predict the next word.\n",
    "\n",
    "The way a word level text generation model is built is to take a sequence of N words and then predict the next one. To create a training set, the text is split up into sliding widows where the feature vector **x** is the N words in the sequence of text and the target y is the N+1 word in that text. We repeat this process for N=1,2,3,4,... \n",
    "\n",
    "For instance take the sentence \"the man is walking down the street.\" To build a model that predicts the next word based on the 4 words that come before it, it is necessary to create the 4 training examples as shown below,\n",
    "\n",
    "<figure>\n",
    "<img src=\"https://github.com/mdh266/JFKSpeechWriter/blob/main/images/nextword.png?raw=1\" alt=\"Trulli\" style=\"width:75%\">\n",
    "<figcaption align = \"center\">\n",
    "From https://www.youtube.com/watch?v=VAMKuRAh2nc\n",
    "</figcaption>\n",
    "</figure>\n",
    "\n",
    "For this model I will use `seq_length` as `N` or the number words in the text used to predict the next word. In order to be able to predict the next word I need to reduce the total number words that are possible to predict to a finite number. This means limiting the number of possible words to be a set of size `vocab_size`. This in turn converts the next word prediction problem into a classification problem with `vocab-size` classes.\n",
    "\n",
    "In order to convert the text which is represented as a sequence of words into numerical vectors I'll use the [TextVectorization](https://www.tensorflow.org/api_docs/python/tf/keras/layers/TextVectorization) class. This technique is discussed in more in a prior post which you can read [here](https://mdh266.github.io/posts/nlp4)."
   ]
  },
  {
   "cell_type": "code",
   "execution_count": 204,
   "id": "42cee418",
   "metadata": {},
   "outputs": [],
   "source": [
    "vocab_size = 12000\n",
    "seq_length = 30"
   ]
  },
  {
   "cell_type": "markdown",
   "id": "73348db4",
   "metadata": {},
   "source": [
    "I first instantiate the `TextVectorization` layer and fit it to the text:"
   ]
  },
  {
   "cell_type": "code",
   "execution_count": 205,
   "id": "3e2b3fa2",
   "metadata": {},
   "outputs": [],
   "source": [
    "from tensorflow.keras.layers.experimental.preprocessing import TextVectorization\n",
    "\n",
    "vectorizer_layer = TextVectorization(\n",
    "    standardize=\"lower_and_strip_punctuation\",\n",
    "    max_tokens=vocab_size,\n",
    "    output_mode=\"int\",\n",
    "    output_sequence_length=seq_length,\n",
    ")"
   ]
  },
  {
   "cell_type": "code",
   "execution_count": 206,
   "id": "cc0cb67a",
   "metadata": {},
   "outputs": [
    {
     "name": "stderr",
     "output_type": "stream",
     "text": [
      "2024-01-28 17:07:18.274711: I tensorflow/core/grappler/optimizers/custom_graph_optimizer_registry.cc:113] Plugin optimizer for device_type GPU is enabled.\n"
     ]
    }
   ],
   "source": [
    "vectorizer_layer.adapt([clean_text])"
   ]
  },
  {
   "cell_type": "markdown",
   "id": "65bab2ff",
   "metadata": {},
   "source": [
    "Note that I do this on the `clean_text` string and not the text string. \n",
    "\n",
    "I can then get the set of words in the `vectorizer_layer`'s \"vocabulary\" and create a dictionary to look up each word's equivalent numerical value."
   ]
  },
  {
   "cell_type": "code",
   "execution_count": 207,
   "id": "f4322bac",
   "metadata": {},
   "outputs": [],
   "source": [
    "voc = vectorizer_layer.get_vocabulary()\n",
    "word_index = dict(zip(voc, range(len(voc))))"
   ]
  },
  {
   "cell_type": "markdown",
   "id": "29397d4a",
   "metadata": {},
   "source": [
    "We can see the vocab size of the `vectorizer_layer`,"
   ]
  },
  {
   "cell_type": "code",
   "execution_count": 208,
   "id": "df5bdf54",
   "metadata": {},
   "outputs": [
    {
     "data": {
      "text/plain": [
       "12000"
      ]
     },
     "execution_count": 208,
     "metadata": {},
     "output_type": "execute_result"
    }
   ],
   "source": [
    "len(voc)"
   ]
  },
  {
   "cell_type": "markdown",
   "id": "ce6c1664",
   "metadata": {},
   "source": [
    "The numerical value for each of the first two words in the example text above is then,"
   ]
  },
  {
   "cell_type": "code",
   "execution_count": 209,
   "id": "4b2c4387",
   "metadata": {},
   "outputs": [
    {
     "data": {
      "text/plain": [
       "3"
      ]
     },
     "execution_count": 209,
     "metadata": {},
     "output_type": "execute_result"
    }
   ],
   "source": [
    "word_index['of']"
   ]
  },
  {
   "cell_type": "code",
   "execution_count": 210,
   "id": "a2ea33e3",
   "metadata": {},
   "outputs": [
    {
     "data": {
      "text/plain": [
       "717"
      ]
     },
     "execution_count": 210,
     "metadata": {},
     "output_type": "execute_result"
    }
   ],
   "source": [
    "word_index['particular']"
   ]
  },
  {
   "cell_type": "markdown",
   "id": "7fbb2e6c",
   "metadata": {},
   "source": [
    "The numerical value for the \"out of vocabulary\" token is,"
   ]
  },
  {
   "cell_type": "code",
   "execution_count": 211,
   "id": "ca5e40f4",
   "metadata": {},
   "outputs": [
    {
     "data": {
      "text/plain": [
       "1"
      ]
     },
     "execution_count": 211,
     "metadata": {},
     "output_type": "execute_result"
    }
   ],
   "source": [
    "word_index['[UNK]']"
   ]
  },
  {
   "cell_type": "markdown",
   "id": "f1054eb2",
   "metadata": {},
   "source": [
    "Next I'll create the dataset X and y, where X is the vector of features, which in turn are numerical values for the sequence of words. The vector y is the target which consist of integers that represents the numerical value of next word in the corresponding sequence in X:"
   ]
  },
  {
   "cell_type": "code",
   "execution_count": 212,
   "id": "63feef8b",
   "metadata": {},
   "outputs": [
    {
     "name": "stderr",
     "output_type": "stream",
     "text": [
      "2024-01-28 17:07:21.834528: I tensorflow/core/grappler/optimizers/custom_graph_optimizer_registry.cc:113] Plugin optimizer for device_type GPU is enabled.\n",
      "2024-01-28 17:07:21.836850: I tensorflow/core/grappler/optimizers/custom_graph_optimizer_registry.cc:113] Plugin optimizer for device_type GPU is enabled.\n"
     ]
    }
   ],
   "source": [
    "words_seq = [clean_words[i:i + seq_length] for i in range(0, len(clean_words) - seq_length-1)]\n",
    "next_word = [clean_words[i + seq_length] for i in range(0, len(clean_words) - seq_length-1)]"
   ]
  },
  {
   "cell_type": "markdown",
   "id": "dd3fa47f",
   "metadata": {},
   "source": [
    "Each entry in `words_seq` is a list of the `seq_length` words or tokens that make up the sequence in that training example."
   ]
  },
  {
   "cell_type": "code",
   "execution_count": 213,
   "id": "bd1c856e",
   "metadata": {},
   "outputs": [
    {
     "name": "stdout",
     "output_type": "stream",
     "text": [
      "of particular importance to south dakota are the farm policies of the republican party the party of nixon and mundt the party which offers our young people no incentive to\n",
      "\n",
      "particular importance to south dakota are the farm policies of the republican party the party of nixon and mundt the party which offers our young people no incentive to return\n",
      "\n"
     ]
    }
   ],
   "source": [
    "for words in words_seq[:2]:\n",
    "    print(\" \".join(words) + \"\\n\")"
   ]
  },
  {
   "cell_type": "markdown",
   "id": "29d8c504",
   "metadata": {},
   "source": [
    "Now I'll convert the target vector of \"next words\" to a vector with \"numerical values\" using the `word_index` dictionary:"
   ]
  },
  {
   "cell_type": "code",
   "execution_count": 214,
   "id": "ec7ed028",
   "metadata": {},
   "outputs": [
    {
     "data": {
      "text/plain": [
       "array([978,   5])"
      ]
     },
     "execution_count": 214,
     "metadata": {},
     "output_type": "execute_result"
    }
   ],
   "source": [
    "next_cat = np.array([word_index.get(word, 1) for word in next_word])\n",
    "next_cat[:2]"
   ]
  },
  {
   "cell_type": "markdown",
   "id": "3323bfda",
   "metadata": {},
   "source": [
    "Notice that if the word is not in the `word_index` then it is given the out of vocabulary int of 1.\n",
    "\n",
    "Then I convert those list of lists into a list of strings,"
   ]
  },
  {
   "cell_type": "code",
   "execution_count": 299,
   "id": "3986b6dc",
   "metadata": {},
   "outputs": [
    {
     "data": {
      "text/plain": [
       "array([['of particular importance to south dakota are the farm policies of the republican party the party of nixon and mundt the party which offers our young people no incentive to'],\n",
       "       ['particular importance to south dakota are the farm policies of the republican party the party of nixon and mundt the party which offers our young people no incentive to return']],\n",
       "      dtype='<U260')"
      ]
     },
     "execution_count": 299,
     "metadata": {},
     "output_type": "execute_result"
    }
   ],
   "source": [
    "X = np.array([\" \".join(words_seq[i]) for i in range(len(next_word))\n",
    "              if next_cat[i] != 1]).reshape(-1,1)\n",
    "X[:2]"
   ]
  },
  {
   "cell_type": "markdown",
   "id": "e02ad7a6",
   "metadata": {},
   "source": [
    "The reason for doing this is that this way my model will be able to take inputs that are just plain text instead of needing lists of strings that represent that text. The later would require that new inputs to the model be pre-processed before being feed into the trained model, while the latter means a trained model can just take raw text as the input.\n",
    "\n",
    "\n",
    "Notice that I only included sequences of the text where the target word was **not** an out of vocabulary word. \n",
    "\n",
    "The next two words that correspond to the targets for the examples above are,"
   ]
  },
  {
   "cell_type": "code",
   "execution_count": 216,
   "id": "daff1593",
   "metadata": {},
   "outputs": [
    {
     "data": {
      "text/plain": [
       "['return', 'to']"
      ]
     },
     "execution_count": 216,
     "metadata": {},
     "output_type": "execute_result"
    }
   ],
   "source": [
    "next_word[:2]"
   ]
  },
  {
   "cell_type": "markdown",
   "id": "41396c98",
   "metadata": {},
   "source": [
    "Lastly, I'll create the target vector by filtering out the case where value would be out-of-vocabulary tokens:"
   ]
  },
  {
   "cell_type": "code",
   "execution_count": 217,
   "id": "7d9b7085",
   "metadata": {},
   "outputs": [
    {
     "data": {
      "text/plain": [
       "array([978,   5])"
      ]
     },
     "execution_count": 217,
     "metadata": {},
     "output_type": "execute_result"
    }
   ],
   "source": [
    "y = np.array([cat for cat in next_cat if cat != 1])\n",
    "y[:2]"
   ]
  },
  {
   "cell_type": "markdown",
   "id": "2b446edf",
   "metadata": {},
   "source": [
    "The reason for filtering the out-of-vocabulary tokens is I don't want to train a model that predicts out-of-vocabulary words since this would be meaningless to end users."
   ]
  },
  {
   "cell_type": "markdown",
   "id": "0e070253",
   "metadata": {},
   "source": [
    "The size of the X dataset is,"
   ]
  },
  {
   "cell_type": "code",
   "execution_count": 218,
   "id": "9ff39538",
   "metadata": {},
   "outputs": [
    {
     "data": {
      "text/plain": [
       "(1187726, 1)"
      ]
     },
     "execution_count": 218,
     "metadata": {},
     "output_type": "execute_result"
    }
   ],
   "source": [
    "X.shape"
   ]
  },
  {
   "cell_type": "markdown",
   "id": "63e266f2",
   "metadata": {},
   "source": [
    "That is X is technically a 1-D array, but each entry in X is an array that contains the string of text. Once we transform the X array we will have a matrix it will be of size,"
   ]
  },
  {
   "cell_type": "code",
   "execution_count": 219,
   "id": "8d2ef921",
   "metadata": {},
   "outputs": [
    {
     "data": {
      "text/plain": [
       "TensorShape([1187726, 30])"
      ]
     },
     "execution_count": 219,
     "metadata": {},
     "output_type": "execute_result"
    }
   ],
   "source": [
    "vectorizer_layer.call(X).shape"
   ]
  },
  {
   "cell_type": "markdown",
   "id": "e162c079",
   "metadata": {},
   "source": [
    "This is what we would expect, 50 features per entry in our design matrix. Again, I use this set up where X is a 1 dimensional array so that my model has only input of text.\n",
    "\n",
    "The target variable has shape,"
   ]
  },
  {
   "cell_type": "code",
   "execution_count": 220,
   "id": "35b81e81",
   "metadata": {},
   "outputs": [
    {
     "data": {
      "text/plain": [
       "(1187726,)"
      ]
     },
     "execution_count": 220,
     "metadata": {},
     "output_type": "execute_result"
    }
   ],
   "source": [
    "y.shape"
   ]
  },
  {
   "cell_type": "markdown",
   "id": "48a076d7",
   "metadata": {},
   "source": [
    "Now to see what effect the vectorizer layer has on the text I'll feed the first two sequences above through the layer."
   ]
  },
  {
   "cell_type": "code",
   "execution_count": 221,
   "id": "6cf78df1",
   "metadata": {},
   "outputs": [
    {
     "data": {
      "text/plain": [
       "<tf.Tensor: shape=(2, 30), dtype=int64, numpy=\n",
       "array([[   3,  717,  652,    5,  482, 2772,   16,    2,  143,  280,    3,\n",
       "           2,  142,   81,    2,   81,    3,  192,    4, 8230,    2,   81,\n",
       "          23, 1290,   13,  406,   57,   46, 3001,    5],\n",
       "       [ 717,  652,    5,  482, 2772,   16,    2,  143,  280,    3,    2,\n",
       "         142,   81,    2,   81,    3,  192,    4, 8230,    2,   81,   23,\n",
       "        1290,   13,  406,   57,   46, 3001,    5,  978]])>"
      ]
     },
     "execution_count": 221,
     "metadata": {},
     "output_type": "execute_result"
    }
   ],
   "source": [
    "vectorizer_layer.call(X[:2])"
   ]
  },
  {
   "cell_type": "markdown",
   "id": "3976fea9",
   "metadata": {},
   "source": [
    "The vectorizer layer converts the array of strings with shape `(1179990,)` to an matrix of integers of shape `(1179990, seq_length)`. Each entry in the array will be a integer from 1 to `vocab_size` and is the integer representation for each word.\n",
    "\n",
    "Now that we an understanding of how we can create the dataset let's talk about Recurrent Neural Networks. "
   ]
  },
  {
   "cell_type": "markdown",
   "id": "ad0b7aef",
   "metadata": {
    "tags": []
   },
   "source": [
    "## A Bidirectional GRU Model  <a class=\"anchor\" id=\"third-bullet\"></a>\n",
    "------------\n",
    "[Recurrent Neural Networks (RNN)](https://en.wikipedia.org/wiki/Recurrent_neural_network) are deep learning models used to predict sequences. These models use an internal state, **h**, to act as memory that processes these sequences and \"remember\" things from the past. A quintessential diagram of a RNN is shown below, \n",
    "\n",
    "\n",
    "<figure>\n",
    "<img src=\"https://github.com/mdh266/JFKSpeechWriter/blob/main/images/rnn.png?raw=1\" alt=\"Trulli\" style=\"width:75%\">\n",
    "<figcaption align = \"center\">\n",
    "From https://en.wikipedia.org/wiki/Recurrent_neural_network#/media/File:Recurrent_neural_network_unfold.svg/\n",
    "</figcaption>\n",
    "</figure>\n",
    "\n",
    "A RNN cell is shown on the left and on the right is the \"un-rolled\" version that shows how the cell processes a sequence of inputs **x** into outputs **o**; there is a subscript *t* that denotes entry in the sequence. The subscript for each **h** is used to denote the value the internal state or memory cell in the t-th entry in the sequence.\n",
    "\n",
    "There are a number of RNN's and a few are shown below,\n",
    "\n",
    "<figure>\n",
    "<img src=\"https://github.com/mdh266/JFKSpeechWriter/blob/main/images/types.png?raw=1\" alt=\"Trulli\" style=\"width:75%\">\n",
    "<figcaption align = \"center\">\n",
    "From https://calvinfeng.gitbook.io/machine-learning-notebook/supervised-learning/recurrent-neural-network/recurrent_neural_networks/\n",
    "</figcaption>\n",
    "</figure>\n",
    "\n",
    "\n",
    "The model I am building in this post that uses a sequence of words to predict the next word is a \"many-to-one\" model. The many-to-one RNN gets its name since we using a sequence \"many\" of word to predict one word, i.e. the next word.  Zooming into the RNN cell we focus on a specific type of RNN called a [Gated Recurrent Unit (GRU)](https://en.wikipedia.org/wiki/Gated_recurrent_unit). The details of a GRU cell are shown below.\n",
    "\n",
    "\n",
    "<figure>\n",
    "<img src=\"https://github.com/mdh266/JFKSpeechWriter/blob/main/images/gru_cell.png?raw=1\" alt=\"Trulli\" style=\"width:75%\">\n",
    "<figcaption align = \"center\">\n",
    "From https://colah.github.io/posts/2015-08-Understanding-LSTMs/\n",
    "</figcaption>\n",
    "</figure>"
   ]
  },
  {
   "cell_type": "markdown",
   "id": "301eb2f1",
   "metadata": {
    "tags": []
   },
   "source": [
    "There is a hidden state **h** that takes on values for each iteration *t*. There is a candidate update to the hidden state **h** with a ~ over it. The candidate update to the hidden state has values between -1 and +1 and is a function of the relevance gate **r** as well as the prior value of the hidden state and the current value of the input. The relevance gate is value between 0 and 1 and is a function of the prior value of the hidden state and the current value of the input. It controls the amount off effect that the prior hidden state value has on the candidate update value for the hidden state. \n",
    "\n",
    "Lastly, there is a forget gate **z** which is between 0 and 1 is a function of the prior value of the hidden state and the current value of the input. The forget gate is used to control whether we update the hidden state value or not. If `z = 1` then we update the internal state to be the candidate state. If `z = 0`, the value for the hidden state remains unchanged.\n",
    "\n",
    "Notice the hidden state value **h** of one iteration can be fed directly into the RNN as well as the input **x**. These variables are not necessarily scalars and are often vectors. \n",
    "\n",
    "In the model I am building the variables will be vectors of dimension `seq_length`. The output of the RNN cell is a vector of size `vocab_size`. To convert the hidden state vector **x** to **y** we apply a softmax function.\n",
    "\n",
    "Many times in natural language processing models make use of a [bi-directional RNN](https://en.wikipedia.org/wiki/Bidirectional_recurrent_neural_networks). In this type of model two RNN cells are used, one processing the sequence in the forward direction and one processing the sequence in the reverse direction. The architecture is shown below:\n",
    "\n",
    "<figure>\n",
    "<img src=\"https://github.com/mdh266/JFKSpeechWriter/blob/main/images/bidirectionalgru.png?raw=1\" alt=\"Trulli\" style=\"width:75%\">\n",
    "<figcaption align = \"center\">\n",
    "From https://www.researchgate.net/figure/The-structure-of-a-bidirectional-GRU-model_fig4_366204325\n",
    "</figcaption>\n",
    "</figure>"
   ]
  },
  {
   "cell_type": "markdown",
   "id": "8a9440a4",
   "metadata": {
    "tags": []
   },
   "source": [
    "Notice that the forward and backward GRU cells are both a function of the same input value **x** (both at the same time *t*), but are functions of different iterations hidden states **h** (different values of *t*). Both cells at the same iteration are used to compute the output at the same iteration. Bidirectional RNN's were introduced to increase the amount of input information available to the network."
   ]
  },
  {
   "cell_type": "markdown",
   "id": "cc5e2aa1",
   "metadata": {},
   "source": [
    "I had originally created a bi-directional GRU model using [TensorFlow's subclassing](https://www.tensorflow.org/guide/keras/custom_layers_and_models), however, I ran into issues with the size of this dataset and shuffling the data. It was hard to shuffle the entire Pandas dataframe and then train on it, so instead I looked to using the the TensorFlow [Dataset](https://www.tensorflow.org/api_docs/python/tf/data/Dataset) module.\n",
    "\n",
    "This allows me to \"stream\" over the dataset, shuffle and mini-batch it using the [from_tensor_slices](https://www.geeksforgeeks.org/tensorflow-tf-data-dataset-from_tensor_slices/) to convert the Pandas DataFrame and Series tuple to a TensorFlow dataset.  "
   ]
  },
  {
   "cell_type": "code",
   "execution_count": 222,
   "id": "3ff8f4cc",
   "metadata": {},
   "outputs": [],
   "source": [
    "dataset = (tf.data.Dataset\n",
    "             .from_tensor_slices((X, y))\n",
    "             .shuffle(50000)\n",
    "             .batch(128))"
   ]
  },
  {
   "cell_type": "markdown",
   "id": "f9b97eb2",
   "metadata": {},
   "source": [
    "Next, I built a function which creates a sequential model which contains a [TextVectorization](https://www.tensorflow.org/api_docs/python/tf/keras/layers/TextVectorization) layer, followed by an [Embedding](https://keras.io/api/layers/core_layers/embedding/) layer, [Bidirectional](https://www.tensorflow.org/api_docs/python/tf/keras/layers/Bidirectional) [GRU](https://www.tensorflow.org/api_docs/python/tf/keras/layers/GRU) layer, and finally a dense layer with a softmax activation layer.\n",
    "\n",
    "I compile the model using the [SparseCategoricalEntropy](https://www.tensorflow.org/api_docs/python/tf/keras/losses/SparseCategoricalCrossentropy) loss function since the target variable has not been one-hot-encoded and use the [Adam](https://www.tensorflow.org/api_docs/python/tf/keras/optimizers/Adam) optimization algorithm with and learning rate that has exponential decay. Since we are using this as a model to predict the next word, the correct answer is a somewhat subjective and I don't care too much about which metric we use to measure performance.\n",
    "\n",
    "I wrote this as function that returns both the fitted vectorizer layer as the compiled Keras model. I need the vectorizer layer so that I have a mapping that convert the predicted numerical \"next word\" into actual text."
   ]
  },
  {
   "cell_type": "code",
   "execution_count": 223,
   "id": "e9b5731a",
   "metadata": {},
   "outputs": [],
   "source": [
    "from typing import Tuple\n",
    "\n",
    "def build_model(\n",
    "             text: str, \n",
    "             seq_length: int,\n",
    "             vocab_size: int, \n",
    "             embedding_dim: int, \n",
    "             units: int\n",
    ") -> Tuple[TextVectorization, tf.keras.models.Sequential]:\n",
    "    \n",
    "    vectorizer_layer = TextVectorization(\n",
    "                            standardize=\"lower_and_strip_punctuation\",\n",
    "                            max_tokens=vocab_size,\n",
    "                            output_mode=\"int\",\n",
    "                            output_sequence_length=seq_length)\n",
    "    \n",
    "    vectorizer_layer.adapt([text])\n",
    "    \n",
    "    model = tf.keras.models.Sequential([\n",
    "                    tf.keras.Input(shape=(1,), \n",
    "                                   dtype=tf.string, \n",
    "                                   name='text'),\n",
    "                    vectorizer_layer,\n",
    "                    tf.keras.layers.Embedding(vocab_size, embedding_dim),\n",
    "                    tf.keras.layers.Bidirectional(tf.keras.layers.GRU(units)),\n",
    "                    tf.keras.layers.Dense(vocab_size, activation='softmax')\n",
    "    ])\n",
    "    \n",
    "    lr_schedule = tf.keras.optimizers.schedules.ExponentialDecay(\n",
    "                            initial_learning_rate=1e-1,\n",
    "                            decay_steps=1000,\n",
    "                            decay_rate=0.001)\n",
    "    \n",
    "    model.compile(loss=tf.keras.losses.SparseCategoricalCrossentropy(), \n",
    "                  optimizer=tf.optimizers.Adam(learning_rate=lr_schedule))\n",
    "    \n",
    "    return vectorizer_layer, model"
   ]
  },
  {
   "cell_type": "markdown",
   "id": "2beab8e5",
   "metadata": {},
   "source": [
    "I can create a model that has takes in relatively short text of 20 words and predicts the next out of 15,000 possibilities. The embedding layer has 128 dimensions and the Bidirectional GRU layer has 64 units each:"
   ]
  },
  {
   "cell_type": "code",
   "execution_count": 224,
   "id": "0026cb95",
   "metadata": {},
   "outputs": [
    {
     "name": "stderr",
     "output_type": "stream",
     "text": [
      "2024-01-28 17:07:48.997658: I tensorflow/core/grappler/optimizers/custom_graph_optimizer_registry.cc:113] Plugin optimizer for device_type GPU is enabled.\n"
     ]
    }
   ],
   "source": [
    "vectorizer, model = build_model(text=text, \n",
    "                                seq_length=seq_length, \n",
    "                                vocab_size=vocab_size, \n",
    "                                embedding_dim=128, \n",
    "                                units=64)"
   ]
  },
  {
   "cell_type": "markdown",
   "id": "ea6bf3cc",
   "metadata": {},
   "source": [
    "Notice that for the vectorizer layer I have to pass the original text, `seq_length` and the `vocab_size` values to initialize that layer properly. I can get the [summary](https://keras.io/api/models/model/#summary-method) of the model:\n"
   ]
  },
  {
   "cell_type": "code",
   "execution_count": 225,
   "id": "74943d21",
   "metadata": {},
   "outputs": [
    {
     "name": "stdout",
     "output_type": "stream",
     "text": [
      "Model: \"sequential_19\"\n",
      "_________________________________________________________________\n",
      " Layer (type)                Output Shape              Param #   \n",
      "=================================================================\n",
      " text_vectorization_30 (Text  (None, 30)               0         \n",
      " Vectorization)                                                  \n",
      "                                                                 \n",
      " embedding_19 (Embedding)    (None, 30, 128)           1536000   \n",
      "                                                                 \n",
      " bidirectional_19 (Bidirecti  (None, 128)              74496     \n",
      " onal)                                                           \n",
      "                                                                 \n",
      " dense_19 (Dense)            (None, 12000)             1548000   \n",
      "                                                                 \n",
      "=================================================================\n",
      "Total params: 3,158,496\n",
      "Trainable params: 3,158,496\n",
      "Non-trainable params: 0\n",
      "_________________________________________________________________\n"
     ]
    }
   ],
   "source": [
    "model.summary()"
   ]
  },
  {
   "cell_type": "markdown",
   "id": "68021700",
   "metadata": {},
   "source": [
    "The model has over 3 million parameters which is a lot!\n",
    "\n",
    "Now I can train the model on the dataset with a modest 3 epochs:"
   ]
  },
  {
   "cell_type": "code",
   "execution_count": 226,
   "id": "065c5569",
   "metadata": {},
   "outputs": [
    {
     "name": "stdout",
     "output_type": "stream",
     "text": [
      "Epoch 1/3\n"
     ]
    },
    {
     "name": "stderr",
     "output_type": "stream",
     "text": [
      "2024-01-28 17:07:57.527292: I tensorflow/core/grappler/optimizers/custom_graph_optimizer_registry.cc:113] Plugin optimizer for device_type GPU is enabled.\n",
      "2024-01-28 17:07:57.777102: I tensorflow/core/grappler/optimizers/custom_graph_optimizer_registry.cc:113] Plugin optimizer for device_type GPU is enabled.\n",
      "2024-01-28 17:07:57.794880: I tensorflow/core/grappler/optimizers/custom_graph_optimizer_registry.cc:113] Plugin optimizer for device_type GPU is enabled.\n",
      "2024-01-28 17:07:58.171041: I tensorflow/core/grappler/optimizers/custom_graph_optimizer_registry.cc:113] Plugin optimizer for device_type GPU is enabled.\n",
      "2024-01-28 17:07:58.184822: I tensorflow/core/grappler/optimizers/custom_graph_optimizer_registry.cc:113] Plugin optimizer for device_type GPU is enabled.\n"
     ]
    },
    {
     "name": "stdout",
     "output_type": "stream",
     "text": [
      "9280/9280 [==============================] - 474s 51ms/step - loss: 7.5869\n",
      "Epoch 2/3\n",
      "9280/9280 [==============================] - 465s 50ms/step - loss: 7.3280\n",
      "Epoch 3/3\n",
      "9280/9280 [==============================] - 477s 51ms/step - loss: 7.3280\n"
     ]
    }
   ],
   "source": [
    "history = model.fit(dataset, epochs=3)"
   ]
  },
  {
   "cell_type": "markdown",
   "id": "b07e6458",
   "metadata": {},
   "source": [
    "Now I can save the model for future use:"
   ]
  },
  {
   "cell_type": "code",
   "execution_count": 227,
   "id": "02eff2bc",
   "metadata": {},
   "outputs": [
    {
     "name": "stderr",
     "output_type": "stream",
     "text": [
      "WARNING:absl:Found untraced functions such as gru_cell_61_layer_call_fn, gru_cell_61_layer_call_and_return_conditional_losses, gru_cell_62_layer_call_fn, gru_cell_62_layer_call_and_return_conditional_losses while saving (showing 4 of 4). These functions will not be directly callable after loading.\n"
     ]
    }
   ],
   "source": [
    "model.save(\"jfk_model\")"
   ]
  },
  {
   "cell_type": "markdown",
   "id": "48c88dd7",
   "metadata": {},
   "source": [
    "I can reload the model (at another time) as shown below,"
   ]
  },
  {
   "cell_type": "code",
   "execution_count": 294,
   "id": "ae925770",
   "metadata": {},
   "outputs": [
    {
     "name": "stderr",
     "output_type": "stream",
     "text": [
      "2024-01-28 17:42:19.454192: I tensorflow/core/grappler/optimizers/custom_graph_optimizer_registry.cc:113] Plugin optimizer for device_type GPU is enabled.\n",
      "2024-01-28 17:42:19.459024: I tensorflow/core/grappler/optimizers/custom_graph_optimizer_registry.cc:113] Plugin optimizer for device_type GPU is enabled.\n"
     ]
    }
   ],
   "source": [
    "model = tf.keras.models.load_model(\"jfk_model\")"
   ]
  },
  {
   "cell_type": "markdown",
   "id": "4a34041c",
   "metadata": {},
   "source": [
    "I can predict the next word in the sequence from one of the training examples,"
   ]
  },
  {
   "cell_type": "code",
   "execution_count": 295,
   "id": "3b6da1ed",
   "metadata": {},
   "outputs": [
    {
     "data": {
      "text/plain": [
       "array(['of particular importance to south dakota are the farm policies of the republican party the party of nixon and mundt the party which offers our young people no incentive to'],\n",
       "      dtype='<U260')"
      ]
     },
     "execution_count": 295,
     "metadata": {},
     "output_type": "execute_result"
    }
   ],
   "source": [
    "X[0]"
   ]
  },
  {
   "cell_type": "code",
   "execution_count": 296,
   "id": "35489615",
   "metadata": {},
   "outputs": [
    {
     "name": "stderr",
     "output_type": "stream",
     "text": [
      "2024-01-28 17:42:20.799824: I tensorflow/core/grappler/optimizers/custom_graph_optimizer_registry.cc:113] Plugin optimizer for device_type GPU is enabled.\n",
      "2024-01-28 17:42:20.864376: I tensorflow/core/grappler/optimizers/custom_graph_optimizer_registry.cc:113] Plugin optimizer for device_type GPU is enabled.\n",
      "2024-01-28 17:42:20.870536: I tensorflow/core/grappler/optimizers/custom_graph_optimizer_registry.cc:113] Plugin optimizer for device_type GPU is enabled.\n"
     ]
    },
    {
     "name": "stdout",
     "output_type": "stream",
     "text": [
      "1/1 [==============================] - 0s 474ms/step\n"
     ]
    },
    {
     "data": {
      "text/plain": [
       "2"
      ]
     },
     "execution_count": 296,
     "metadata": {},
     "output_type": "execute_result"
    }
   ],
   "source": [
    "np.argmax(model.predict([X[0]]))"
   ]
  },
  {
   "cell_type": "markdown",
   "id": "5824f440",
   "metadata": {},
   "source": [
    "We can then create the mapping to look up the text associated with the numerical value of the next word from the vectorizer layer."
   ]
  },
  {
   "cell_type": "code",
   "execution_count": 300,
   "id": "5d5999f1",
   "metadata": {},
   "outputs": [],
   "source": [
    "voc = vectorizer.get_vocabulary()\n",
    "word_index = dict(zip(voc, range(len(voc))))\n",
    "reverse_word_map = dict(map(reversed, word_index.items()))"
   ]
  },
  {
   "cell_type": "code",
   "execution_count": 301,
   "id": "7c1d60e1",
   "metadata": {},
   "outputs": [
    {
     "name": "stdout",
     "output_type": "stream",
     "text": [
      "1/1 [==============================] - 0s 101ms/step\n"
     ]
    },
    {
     "data": {
      "text/plain": [
       "'the'"
      ]
     },
     "execution_count": 301,
     "metadata": {},
     "output_type": "execute_result"
    }
   ],
   "source": [
    "str(reverse_word_map[\n",
    "        np.argmax(\n",
    "            model.predict(X[0])\n",
    "        )\n",
    "])"
   ]
  },
  {
   "cell_type": "markdown",
   "id": "57818cd0",
   "metadata": {},
   "source": [
    "We did not get the correct word, this can happen."
   ]
  },
  {
   "cell_type": "markdown",
   "id": "8bdb2799",
   "metadata": {},
   "source": [
    "## Generating Text  <a class=\"anchor\" id=\"fourth-bullet\"></a>\n",
    "-----------"
   ]
  },
  {
   "cell_type": "markdown",
   "id": "81f3eecb",
   "metadata": {},
   "source": [
    "Now that the model can generate the next word based on the 30 preceding words we can use it to create text.\n",
    "\n",
    "I'll use an in-sample JFK speech at first:"
   ]
  },
  {
   "cell_type": "code",
   "execution_count": 302,
   "id": "5e8045f0",
   "metadata": {},
   "outputs": [
    {
     "name": "stdout",
     "output_type": "stream",
     "text": [
      "fails to recognize that the problems of one industry may be different from it completely fails to respect the traditional practices widely accepted in the building it completely fails to\n"
     ]
    }
   ],
   "source": [
    "test = X[3342][0]\n",
    "print(test)"
   ]
  },
  {
   "cell_type": "markdown",
   "id": "f8b8c696",
   "metadata": {},
   "source": [
    "Now I can generate the next best n-words using a greedy algorithm defined below:"
   ]
  },
  {
   "cell_type": "code",
   "execution_count": 303,
   "id": "0cf8c43e",
   "metadata": {},
   "outputs": [],
   "source": [
    "def next_words_greedy(input_str: str, n: int) -> str:\n",
    "    final_str = ''\n",
    "    for i in range(n):\n",
    "        prediction = model.predict(np.array([input_str]), verbose=0)\n",
    "        idx = np.argmax(prediction[0])\n",
    "        next_word = str(reverse_word_map[idx])\n",
    "        final_str += next_word + ' ' \n",
    "        input_str += ' ' + next_word\n",
    "        input_str = ' '.join(input_str.split(' ')[1:])\n",
    "    return final_str"
   ]
  },
  {
   "cell_type": "markdown",
   "id": "33fe99ce",
   "metadata": {},
   "source": [
    "The above function repeatedly adds the next most probable word to the sentence.\n",
    "\n",
    "Let's see the results:"
   ]
  },
  {
   "cell_type": "code",
   "execution_count": 304,
   "id": "11b584e2",
   "metadata": {},
   "outputs": [
    {
     "data": {
      "text/plain": [
       "'invited the much '"
      ]
     },
     "execution_count": 304,
     "metadata": {},
     "output_type": "execute_result"
    }
   ],
   "source": [
    "next_words_greedy(test, 3)"
   ]
  },
  {
   "cell_type": "markdown",
   "id": "45029cfd",
   "metadata": {},
   "source": [
    "This doenst quite make sense. Choosing the next best word at each step can give us poor results as the sentence might not make sense and often leads to repeated words.\n",
    "\n",
    "There a few ways to generate more realistic sentences, one of them being [beam search algorithm](https://en.wikipedia.org/wiki/Beam_search). I actually tried using this method with [KerasNLP](https://keras.io/keras_nlp/), but had a bunch of issues and could not get it to work.\n",
    "\n",
    "So instead I wanted to look at adding some randomness to the next best word algorithm. One way to do this is by choosing the next word by sampling the predicted distribution of words based on their probabilities. I used the [choice](https://numpy.org/doc/stable/reference/random/generated/numpy.random.choice.html) method from NumPy to accomplish this below,"
   ]
  },
  {
   "cell_type": "code",
   "execution_count": 305,
   "id": "70cd418c",
   "metadata": {},
   "outputs": [],
   "source": [
    "def next_words_distribution(input_str: str, n: int) -> str:\n",
    "    final_str = input_str + ' '\n",
    "    for i in range(n):\n",
    "        prediction = model.predict(np.array([input_str]), verbose=0)\n",
    "        idx = np.random.choice(vocab_size, p=prediction[0])\n",
    "        next_word = str(reverse_word_map[idx])\n",
    "        final_str += next_word + ' ' \n",
    "        input_str += ' ' + next_word\n",
    "        input_str = ' '.join(input_str.split(' ')[1:])\n",
    "    return final_str"
   ]
  },
  {
   "cell_type": "markdown",
   "id": "adf16864",
   "metadata": {},
   "source": [
    "Now let's test it out:"
   ]
  },
  {
   "cell_type": "code",
   "execution_count": 306,
   "id": "60426b1a",
   "metadata": {},
   "outputs": [
    {
     "data": {
      "text/plain": [
       "'fails to recognize that the problems of one industry may be different from it completely fails to respect the traditional practices widely accepted in the building it completely fails to attorney shall at to hospital that attract on a demand '"
      ]
     },
     "execution_count": 306,
     "metadata": {},
     "output_type": "execute_result"
    }
   ],
   "source": [
    "next_words_distribution(test, 10)"
   ]
  },
  {
   "cell_type": "markdown",
   "id": "0f166af2",
   "metadata": {},
   "source": [
    "This again doesn't quite make too much sense. Building a JFK speech writter from scratch is not as easy as I thought! \n",
    "\n",
    "I spent a lot of time tweeking the model to no avail. Instead I think I will stop persuing this architecture and instead use a more modern one in another blog post."
   ]
  },
  {
   "cell_type": "markdown",
   "id": "d1b133cd",
   "metadata": {},
   "source": [
    "## Next Steps  <a class=\"anchor\" id=\"fifth-bullet\"></a>\n",
    "-------------\n"
   ]
  },
  {
   "cell_type": "markdown",
   "id": "4f7f6617",
   "metadata": {},
   "source": [
    "In this blog post I covered how to create a generative text model using bi-directional gated recurrent unit (GRU) that is trained on speeches made by President John F. Kennedy. The model was built in Keras using TensorFlow as a back-end and I covered how to use this model to generate text based off an input string. \n",
    "\n",
    "The GRU model is a specific type of Recurrent Neural Network (RNN) and models sequences. RNNs were quite popular for Natural Language Processing until around 2017/2018. More recently, Recurrent Neural Networks have fallen out of popularity for NLP tasks as <a href=\"https://en.wikipedia.org/wiki/Transformer_(machine_learning)\">Transformer</a> and <a href=\"https://en.wikipedia.org/wiki/Attention_(machine_learning)\">Attention</a> based methods have shown substantially better performance. Using transformers for generating text that is meant to sound like JFK would be a natural next step and will be a follow up for a future blog post!"
   ]
  }
 ],
 "metadata": {
  "kernelspec": {
   "display_name": "Python 3 (ipykernel)",
   "language": "python",
   "name": "python3"
  },
  "language_info": {
   "codemirror_mode": {
    "name": "ipython",
    "version": 3
   },
   "file_extension": ".py",
   "mimetype": "text/x-python",
   "name": "python",
   "nbconvert_exporter": "python",
   "pygments_lexer": "ipython3",
   "version": "3.8.18"
  }
 },
 "nbformat": 4,
 "nbformat_minor": 5
}
